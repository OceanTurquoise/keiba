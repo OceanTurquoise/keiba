{
  "cells": [
    {
      "cell_type": "markdown",
      "metadata": {
        "id": "view-in-github",
        "colab_type": "text"
      },
      "source": [
        "<a href=\"https://colab.research.google.com/github/OceanTurquoise/keiba/blob/main/keiba.ipynb\" target=\"_parent\"><img src=\"https://colab.research.google.com/assets/colab-badge.svg\" alt=\"Open In Colab\"/></a>"
      ]
    },
    {
      "cell_type": "code",
      "source": [
        "import pandas as pd\n",
        "import time\n",
        "from tqdm.notebook import tqdm"
      ],
      "metadata": {
        "id": "0IjZY2DnQJoT"
      },
      "execution_count": null,
      "outputs": []
    },
    {
      "cell_type": "code",
      "source": [
        "def scrape_race_results(race_id_list, pre_race_results={}):\n",
        "    race_results = pre_race_results.copy()\n",
        "    for race_id in tqdm(race_id_list):\n",
        "        if race_id in race_results.keys():\n",
        "            continue\n",
        "        try:\n",
        "          time.sleep(1)\n",
        "          url = \"https://db.netkeiba.com/race/\" + race_id\n",
        "          race_results[race_id] = pd.read_html(url)[0]\n",
        "        except IndexError:\n",
        "            continue\n",
        "        except Exception as e:\n",
        "          print(e)\n",
        "          break\n",
        "        except:\n",
        "            break\n",
        "    return race_results"
      ],
      "metadata": {
        "id": "ISkyzlEwQ6Lq"
      },
      "execution_count": null,
      "outputs": []
    },
    {
      "cell_type": "code",
      "source": [
        "race_id_list = []\n",
        "for place in range(1, 11, 1):\n",
        "    for kai in range(1, 6, 1):\n",
        "        for day in range(1, 13, 1):\n",
        "            for r in range(1, 13, 1):\n",
        "                race_id = \"2019\" + str(place).zfill(2) + str(kai).zfill(2) +\\\n",
        "\t\tstr(day).zfill(2) + str(r).zfill(2)\n",
        "                race_id_list.append(race_id)"
      ],
      "metadata": {
        "id": "mxx24fhnRE1T"
      },
      "execution_count": null,
      "outputs": []
    },
    {
      "cell_type": "code",
      "source": [
        "test = scrape_race_results(race_id_list)\n",
        "for key in test:\n",
        "    test[key].index = [key] * len(test[key])\n",
        "results = pd.concat([test[key] for key in test], sort=False) \n",
        "results.to_pickle('results.pickle')"
      ],
      "metadata": {
        "id": "EApNPnsGR4qO"
      },
      "execution_count": null,
      "outputs": []
    },
    {
      "cell_type": "code",
      "source": [
        "import pandas as pd\n",
        "\n",
        "results = pd.read_pickle('results.pickle')"
      ],
      "metadata": {
        "id": "9TsY7QFVWkrk"
      },
      "execution_count": null,
      "outputs": []
    },
    {
      "cell_type": "code",
      "source": [
        "results"
      ],
      "metadata": {
        "id": "pgeZpGFiYk-4"
      },
      "execution_count": null,
      "outputs": []
    },
    {
      "cell_type": "code",
      "source": [
        "import requests\n",
        "from bs4 import BeautifulSoup\n",
        "\n",
        "race_id = '202210040601'\n",
        "url = 'https://db.netkeiba.com/race/' + race_id\n",
        "html = requests.get(url)\n",
        "html.encoding = 'EUC-JP'\n",
        "soup = BeautifulSoup(html.text,'html.parser')"
      ],
      "metadata": {
        "id": "mB3EwQz5uZvs"
      },
      "execution_count": null,
      "outputs": []
    },
    {
      "cell_type": "code",
      "source": [
        "soup.find('div',attrs={'class':'data_intro'}).find_all(\"p\")[0].text"
      ],
      "metadata": {
        "id": "wpxhNgESOBdL"
      },
      "execution_count": null,
      "outputs": []
    },
    {
      "cell_type": "code",
      "source": [
        "text = soup.find('div',attrs={'class':'data_intro'}).find_all(\"p\")[0].text"
      ],
      "metadata": {
        "id": "lJ9t3RbA1d2O"
      },
      "execution_count": null,
      "outputs": []
    },
    {
      "cell_type": "code",
      "source": [
        "import re\n",
        "\n",
        "re.findall(r'\\w+', text)"
      ],
      "metadata": {
        "id": "WOG2kLP-O-N4"
      },
      "execution_count": null,
      "outputs": []
    },
    {
      "cell_type": "code",
      "source": [
        "text2 = soup.find('div',attrs={'class':'data_intro'}).find_all(\"p\")[1].text"
      ],
      "metadata": {
        "id": "PuxmOxuVPaO7"
      },
      "execution_count": null,
      "outputs": []
    },
    {
      "cell_type": "code",
      "source": [
        "re.findall(r'\\w+', text2)"
      ],
      "metadata": {
        "id": "fe3SLD6WPjjs"
      },
      "execution_count": null,
      "outputs": []
    },
    {
      "cell_type": "code",
      "source": [
        "race_id_list = results.index.unique()[:50]"
      ],
      "metadata": {
        "id": "gYditmaaPpF6"
      },
      "execution_count": null,
      "outputs": []
    },
    {
      "cell_type": "code",
      "source": [
        "import time\n",
        "from tqdm import tqdm_notebook as tqdm\n",
        "\n",
        "race_infos = {}\n",
        "for race_id in tqdm(race_id_list):\n",
        "  url = 'https://db.netkeiba.com/race/' + race_id\n",
        "  html = requests.get(url)\n",
        "  html.encoding = 'EUC-JP'\n",
        "  soup = BeautifulSoup(html.text,'html.parser')\n",
        "\n",
        "  texts = soup.find('div',attrs={'class':'data_intro'}).find_all(\"p\")[0].text + \\\n",
        "    soup.find('div',attrs={'class':'data_intro'}).find_all(\"p\")[1].text\n",
        "  info = re.findall(r'\\w+', texts)\n",
        "  info_dict = {}\n",
        "  for text in info:\n",
        "    if text in ['芝','ダート']:\n",
        "      info_dict['race_type'] = text\n",
        "    if '障害' in text:\n",
        "      info_dict['race_type'] = '障害'\n",
        "    if 'm' in text:\n",
        "      info_dict['course_len'] = int(re.findall(r'\\d+',text)[0])\n",
        "    if text in ['良','稍重','重','不良']:\n",
        "      info_dict['ground_state'] = text\n",
        "    if text in ['曇','晴','雨','小雨','小雪','雪']:\n",
        "      info_dict['weather'] = text\n",
        "    if '年' in text:\n",
        "      info_dict['date'] = text\n",
        "  race_infos[race_id] = info_dict\n",
        "  time.sleep(1)"
      ],
      "metadata": {
        "id": "5pihDj37Y4Hv"
      },
      "execution_count": null,
      "outputs": []
    },
    {
      "cell_type": "code",
      "source": [
        "race_infos"
      ],
      "metadata": {
        "id": "yTiG0L9SanhR"
      },
      "execution_count": null,
      "outputs": []
    },
    {
      "cell_type": "code",
      "source": [
        "pd.DataFrame(race_infos).T"
      ],
      "metadata": {
        "id": "FccxcxIZbYUG"
      },
      "execution_count": null,
      "outputs": []
    },
    {
      "cell_type": "code",
      "source": [
        "for key in race_infos.keys():\n",
        "  print(key,len(race_infos[key]))"
      ],
      "metadata": {
        "id": "U_wV_ADyayJX"
      },
      "execution_count": null,
      "outputs": []
    },
    {
      "cell_type": "code",
      "source": [
        "def scrape_race_info(race_id_list):\n",
        "  race_infos = {}\n",
        "  for race_id in tqdm(race_id_list):\n",
        "    try:\n",
        "      url = 'https://db.netkeiba.com/race/' + race_id\n",
        "      html = requests.get(url)\n",
        "      html.encoding = 'EUC-JP'\n",
        "      soup = BeautifulSoup(html.text,'html.parser')\n",
        "\n",
        "      texts = soup.find('div',attrs={'class':'data_intro'}).find_all(\"p\")[0].text + \\\n",
        "        soup.find('div',attrs={'class':'data_intro'}).find_all(\"p\")[1].text\n",
        "      info = re.findall(r'\\w+', texts)\n",
        "      info_dict = {}\n",
        "      for text in info:\n",
        "        if text in ['芝','ダート']:\n",
        "          info_dict['race_type'] = text\n",
        "        if '障害' in text:\n",
        "          info_dict['race_type'] = '障害'\n",
        "        if 'm' in text:\n",
        "          info_dict['course_len'] = int(re.findall(r'\\d+',text)[0])\n",
        "        if text in ['良','稍重','重','不良']:\n",
        "          info_dict['ground_state'] = text\n",
        "        if text in ['曇','晴','雨','小雨','小雪','雪']:\n",
        "          info_dict['weather'] = text\n",
        "        if '年' in text:\n",
        "          info_dict['date'] = text\n",
        "      race_infos[race_id] = info_dict\n",
        "      time.sleep(1)\n",
        "    except IndexError:\n",
        "      continue\n",
        "    except:\n",
        "      break\n",
        "  return race_infos"
      ],
      "metadata": {
        "id": "16wFjVrOpBvx"
      },
      "execution_count": null,
      "outputs": []
    },
    {
      "cell_type": "code",
      "source": [
        "race_id_list = results.index.unique()"
      ],
      "metadata": {
        "id": "fXdgzJkNqA28"
      },
      "execution_count": null,
      "outputs": []
    },
    {
      "cell_type": "code",
      "source": [
        "race_infos = scrape_race_info(race_id_list)"
      ],
      "metadata": {
        "id": "FbFLQjdWqNk2"
      },
      "execution_count": null,
      "outputs": []
    },
    {
      "cell_type": "code",
      "source": [
        "import pandas as pd\n",
        "\n",
        "race_infos2 = race_infos\n",
        "race_infos2_pd = pd.DataFrame(race_infos2.values(), index=race_infos2.keys()).T\n",
        "race_infos2_pd.to_pickle('race_infos.pickle')"
      ],
      "metadata": {
        "id": "pFlU2PWukDNi"
      },
      "execution_count": null,
      "outputs": []
    },
    {
      "cell_type": "code",
      "source": [
        "import pandas as pd\n",
        "\n",
        "race_infos3 = pd.read_pickle('race_infos.pickle')\n",
        "results = pd.read_pickle('results.pickle')"
      ],
      "metadata": {
        "id": "Gsc1uOMQoLDg"
      },
      "execution_count": null,
      "outputs": []
    },
    {
      "cell_type": "code",
      "source": [
        "race_infos3"
      ],
      "metadata": {
        "colab": {
          "base_uri": "https://localhost:8080/",
          "height": 317
        },
        "id": "sCjSYfR3qUDr",
        "outputId": "bb9324bd-d322-43b4-df97-68ae23a99c21"
      },
      "execution_count": null,
      "outputs": [
        {
          "output_type": "execute_result",
          "data": {
            "text/plain": [
              "             201901010101 201901010102 201901010103 201901010104 201901010105  \\\n",
              "course_len           1800         1000         2400         2000         1500   \n",
              "weather                 曇            曇            曇            晴            晴   \n",
              "race_type               芝          ダート          ダート            芝            芝   \n",
              "ground_state            良            良            良            良            良   \n",
              "date           2019年7月27日   2019年7月27日   2019年7月27日   2019年7月27日   2019年7月27日   \n",
              "\n",
              "             201901010106 201901010107 201901010108 201901010109 201901010110  \\\n",
              "course_len           1700         1000         1200         1700         1500   \n",
              "weather                 晴            晴            晴            晴            晴   \n",
              "race_type             ダート          ダート            芝          ダート            芝   \n",
              "ground_state            良            良            良            良            良   \n",
              "date           2019年7月27日   2019年7月27日   2019年7月27日   2019年7月27日   2019年7月27日   \n",
              "\n",
              "              ... 201910021203 201910021204 201910021205 201910021206  \\\n",
              "course_len    ...         1700         1200         1800         2000   \n",
              "weather       ...            雨           小雨           小雨           小雨   \n",
              "race_type     ...          ダート            芝            芝            芝   \n",
              "ground_state  ...           不良            重            重            重   \n",
              "date          ...    2019年9月1日    2019年9月1日    2019年9月1日    2019年9月1日   \n",
              "\n",
              "             201910021207 201910021208 201910021209 201910021210 201910021211  \\\n",
              "course_len           1700         1200         1800         1700         1200   \n",
              "weather                小雨           小雨           小雨           小雨            曇   \n",
              "race_type             ダート            芝            芝          ダート            芝   \n",
              "ground_state           不良            重            重           不良            重   \n",
              "date            2019年9月1日    2019年9月1日    2019年9月1日    2019年9月1日    2019年9月1日   \n",
              "\n",
              "             201910021212  \n",
              "course_len           2600  \n",
              "weather                 曇  \n",
              "race_type               芝  \n",
              "ground_state            重  \n",
              "date            2019年9月1日  \n",
              "\n",
              "[5 rows x 3452 columns]"
            ],
            "text/html": [
              "\n",
              "  <div id=\"df-3825d952-939d-4b8d-bfad-2eee14f0f488\">\n",
              "    <div class=\"colab-df-container\">\n",
              "      <div>\n",
              "<style scoped>\n",
              "    .dataframe tbody tr th:only-of-type {\n",
              "        vertical-align: middle;\n",
              "    }\n",
              "\n",
              "    .dataframe tbody tr th {\n",
              "        vertical-align: top;\n",
              "    }\n",
              "\n",
              "    .dataframe thead th {\n",
              "        text-align: right;\n",
              "    }\n",
              "</style>\n",
              "<table border=\"1\" class=\"dataframe\">\n",
              "  <thead>\n",
              "    <tr style=\"text-align: right;\">\n",
              "      <th></th>\n",
              "      <th>201901010101</th>\n",
              "      <th>201901010102</th>\n",
              "      <th>201901010103</th>\n",
              "      <th>201901010104</th>\n",
              "      <th>201901010105</th>\n",
              "      <th>201901010106</th>\n",
              "      <th>201901010107</th>\n",
              "      <th>201901010108</th>\n",
              "      <th>201901010109</th>\n",
              "      <th>201901010110</th>\n",
              "      <th>...</th>\n",
              "      <th>201910021203</th>\n",
              "      <th>201910021204</th>\n",
              "      <th>201910021205</th>\n",
              "      <th>201910021206</th>\n",
              "      <th>201910021207</th>\n",
              "      <th>201910021208</th>\n",
              "      <th>201910021209</th>\n",
              "      <th>201910021210</th>\n",
              "      <th>201910021211</th>\n",
              "      <th>201910021212</th>\n",
              "    </tr>\n",
              "  </thead>\n",
              "  <tbody>\n",
              "    <tr>\n",
              "      <th>course_len</th>\n",
              "      <td>1800</td>\n",
              "      <td>1000</td>\n",
              "      <td>2400</td>\n",
              "      <td>2000</td>\n",
              "      <td>1500</td>\n",
              "      <td>1700</td>\n",
              "      <td>1000</td>\n",
              "      <td>1200</td>\n",
              "      <td>1700</td>\n",
              "      <td>1500</td>\n",
              "      <td>...</td>\n",
              "      <td>1700</td>\n",
              "      <td>1200</td>\n",
              "      <td>1800</td>\n",
              "      <td>2000</td>\n",
              "      <td>1700</td>\n",
              "      <td>1200</td>\n",
              "      <td>1800</td>\n",
              "      <td>1700</td>\n",
              "      <td>1200</td>\n",
              "      <td>2600</td>\n",
              "    </tr>\n",
              "    <tr>\n",
              "      <th>weather</th>\n",
              "      <td>曇</td>\n",
              "      <td>曇</td>\n",
              "      <td>曇</td>\n",
              "      <td>晴</td>\n",
              "      <td>晴</td>\n",
              "      <td>晴</td>\n",
              "      <td>晴</td>\n",
              "      <td>晴</td>\n",
              "      <td>晴</td>\n",
              "      <td>晴</td>\n",
              "      <td>...</td>\n",
              "      <td>雨</td>\n",
              "      <td>小雨</td>\n",
              "      <td>小雨</td>\n",
              "      <td>小雨</td>\n",
              "      <td>小雨</td>\n",
              "      <td>小雨</td>\n",
              "      <td>小雨</td>\n",
              "      <td>小雨</td>\n",
              "      <td>曇</td>\n",
              "      <td>曇</td>\n",
              "    </tr>\n",
              "    <tr>\n",
              "      <th>race_type</th>\n",
              "      <td>芝</td>\n",
              "      <td>ダート</td>\n",
              "      <td>ダート</td>\n",
              "      <td>芝</td>\n",
              "      <td>芝</td>\n",
              "      <td>ダート</td>\n",
              "      <td>ダート</td>\n",
              "      <td>芝</td>\n",
              "      <td>ダート</td>\n",
              "      <td>芝</td>\n",
              "      <td>...</td>\n",
              "      <td>ダート</td>\n",
              "      <td>芝</td>\n",
              "      <td>芝</td>\n",
              "      <td>芝</td>\n",
              "      <td>ダート</td>\n",
              "      <td>芝</td>\n",
              "      <td>芝</td>\n",
              "      <td>ダート</td>\n",
              "      <td>芝</td>\n",
              "      <td>芝</td>\n",
              "    </tr>\n",
              "    <tr>\n",
              "      <th>ground_state</th>\n",
              "      <td>良</td>\n",
              "      <td>良</td>\n",
              "      <td>良</td>\n",
              "      <td>良</td>\n",
              "      <td>良</td>\n",
              "      <td>良</td>\n",
              "      <td>良</td>\n",
              "      <td>良</td>\n",
              "      <td>良</td>\n",
              "      <td>良</td>\n",
              "      <td>...</td>\n",
              "      <td>不良</td>\n",
              "      <td>重</td>\n",
              "      <td>重</td>\n",
              "      <td>重</td>\n",
              "      <td>不良</td>\n",
              "      <td>重</td>\n",
              "      <td>重</td>\n",
              "      <td>不良</td>\n",
              "      <td>重</td>\n",
              "      <td>重</td>\n",
              "    </tr>\n",
              "    <tr>\n",
              "      <th>date</th>\n",
              "      <td>2019年7月27日</td>\n",
              "      <td>2019年7月27日</td>\n",
              "      <td>2019年7月27日</td>\n",
              "      <td>2019年7月27日</td>\n",
              "      <td>2019年7月27日</td>\n",
              "      <td>2019年7月27日</td>\n",
              "      <td>2019年7月27日</td>\n",
              "      <td>2019年7月27日</td>\n",
              "      <td>2019年7月27日</td>\n",
              "      <td>2019年7月27日</td>\n",
              "      <td>...</td>\n",
              "      <td>2019年9月1日</td>\n",
              "      <td>2019年9月1日</td>\n",
              "      <td>2019年9月1日</td>\n",
              "      <td>2019年9月1日</td>\n",
              "      <td>2019年9月1日</td>\n",
              "      <td>2019年9月1日</td>\n",
              "      <td>2019年9月1日</td>\n",
              "      <td>2019年9月1日</td>\n",
              "      <td>2019年9月1日</td>\n",
              "      <td>2019年9月1日</td>\n",
              "    </tr>\n",
              "  </tbody>\n",
              "</table>\n",
              "<p>5 rows × 3452 columns</p>\n",
              "</div>\n",
              "      <button class=\"colab-df-convert\" onclick=\"convertToInteractive('df-3825d952-939d-4b8d-bfad-2eee14f0f488')\"\n",
              "              title=\"Convert this dataframe to an interactive table.\"\n",
              "              style=\"display:none;\">\n",
              "        \n",
              "  <svg xmlns=\"http://www.w3.org/2000/svg\" height=\"24px\"viewBox=\"0 0 24 24\"\n",
              "       width=\"24px\">\n",
              "    <path d=\"M0 0h24v24H0V0z\" fill=\"none\"/>\n",
              "    <path d=\"M18.56 5.44l.94 2.06.94-2.06 2.06-.94-2.06-.94-.94-2.06-.94 2.06-2.06.94zm-11 1L8.5 8.5l.94-2.06 2.06-.94-2.06-.94L8.5 2.5l-.94 2.06-2.06.94zm10 10l.94 2.06.94-2.06 2.06-.94-2.06-.94-.94-2.06-.94 2.06-2.06.94z\"/><path d=\"M17.41 7.96l-1.37-1.37c-.4-.4-.92-.59-1.43-.59-.52 0-1.04.2-1.43.59L10.3 9.45l-7.72 7.72c-.78.78-.78 2.05 0 2.83L4 21.41c.39.39.9.59 1.41.59.51 0 1.02-.2 1.41-.59l7.78-7.78 2.81-2.81c.8-.78.8-2.07 0-2.86zM5.41 20L4 18.59l7.72-7.72 1.47 1.35L5.41 20z\"/>\n",
              "  </svg>\n",
              "      </button>\n",
              "      \n",
              "  <style>\n",
              "    .colab-df-container {\n",
              "      display:flex;\n",
              "      flex-wrap:wrap;\n",
              "      gap: 12px;\n",
              "    }\n",
              "\n",
              "    .colab-df-convert {\n",
              "      background-color: #E8F0FE;\n",
              "      border: none;\n",
              "      border-radius: 50%;\n",
              "      cursor: pointer;\n",
              "      display: none;\n",
              "      fill: #1967D2;\n",
              "      height: 32px;\n",
              "      padding: 0 0 0 0;\n",
              "      width: 32px;\n",
              "    }\n",
              "\n",
              "    .colab-df-convert:hover {\n",
              "      background-color: #E2EBFA;\n",
              "      box-shadow: 0px 1px 2px rgba(60, 64, 67, 0.3), 0px 1px 3px 1px rgba(60, 64, 67, 0.15);\n",
              "      fill: #174EA6;\n",
              "    }\n",
              "\n",
              "    [theme=dark] .colab-df-convert {\n",
              "      background-color: #3B4455;\n",
              "      fill: #D2E3FC;\n",
              "    }\n",
              "\n",
              "    [theme=dark] .colab-df-convert:hover {\n",
              "      background-color: #434B5C;\n",
              "      box-shadow: 0px 1px 3px 1px rgba(0, 0, 0, 0.15);\n",
              "      filter: drop-shadow(0px 1px 2px rgba(0, 0, 0, 0.3));\n",
              "      fill: #FFFFFF;\n",
              "    }\n",
              "  </style>\n",
              "\n",
              "      <script>\n",
              "        const buttonEl =\n",
              "          document.querySelector('#df-3825d952-939d-4b8d-bfad-2eee14f0f488 button.colab-df-convert');\n",
              "        buttonEl.style.display =\n",
              "          google.colab.kernel.accessAllowed ? 'block' : 'none';\n",
              "\n",
              "        async function convertToInteractive(key) {\n",
              "          const element = document.querySelector('#df-3825d952-939d-4b8d-bfad-2eee14f0f488');\n",
              "          const dataTable =\n",
              "            await google.colab.kernel.invokeFunction('convertToInteractive',\n",
              "                                                     [key], {});\n",
              "          if (!dataTable) return;\n",
              "\n",
              "          const docLinkHtml = 'Like what you see? Visit the ' +\n",
              "            '<a target=\"_blank\" href=https://colab.research.google.com/notebooks/data_table.ipynb>data table notebook</a>'\n",
              "            + ' to learn more about interactive tables.';\n",
              "          element.innerHTML = '';\n",
              "          dataTable['output_type'] = 'display_data';\n",
              "          await google.colab.output.renderOutput(dataTable, element);\n",
              "          const docLink = document.createElement('div');\n",
              "          docLink.innerHTML = docLinkHtml;\n",
              "          element.appendChild(docLink);\n",
              "        }\n",
              "      </script>\n",
              "    </div>\n",
              "  </div>\n",
              "  "
            ]
          },
          "metadata": {},
          "execution_count": 2
        }
      ]
    },
    {
      "cell_type": "code",
      "source": [
        "#results_addinfo = results.merge(pd.DataFrame(race_infos).T,left_index=True,right_index=True,how='inner')\n",
        "results_addinfo = results.merge(race_infos3.T,left_index=True,right_index=True,how='inner')"
      ],
      "metadata": {
        "id": "X5kk5xT_qYlv"
      },
      "execution_count": null,
      "outputs": []
    },
    {
      "cell_type": "code",
      "source": [
        "results_addinfo"
      ],
      "metadata": {
        "colab": {
          "base_uri": "https://localhost:8080/",
          "height": 1000
        },
        "id": "fmxlYAGnDaXA",
        "outputId": "1843e730-339f-420e-d9a5-151ad6600ea8"
      },
      "execution_count": null,
      "outputs": [
        {
          "output_type": "execute_result",
          "data": {
            "text/plain": [
              "              着順  枠番  馬番         馬名  性齢    斤量    騎手     タイム     着差     単勝  \\\n",
              "201901010101   1   1   1      ゴルコンダ  牡2  54.0  ルメール  1:48.3    NaN    1.4   \n",
              "201901010101   2   3   3   プントファイヤー  牡2  54.0  岩田康誠  1:50.1      大    3.5   \n",
              "201901010101   3   4   4  ラグリマスネグラス  牡2  51.0  団野大成  1:50.9      5   46.6   \n",
              "201901010101   4   8   9     キタノコドウ  牡2  51.0  菅原明良  1:51.5  3.1/2   56.8   \n",
              "201901010101   5   5   5   ネモフィラブルー  牡2  54.0  川島信二  1:51.7  1.1/2  140.3   \n",
              "...           ..  ..  ..        ...  ..   ...   ...     ...    ...    ...   \n",
              "201910021212  12   6  11   スリープレッピー  セ6  56.0  森裕太朗  2:45.7    1/2  120.3   \n",
              "201910021212  13   1   1    バリオラージュ  牡5  54.0   斎藤新  2:46.0  1.3/4    7.5   \n",
              "201910021212  14   2   3  サンライズアミーゴ  牡4  54.0  亀田温心  2:46.2      1   99.2   \n",
              "201910021212  15   6  12        トロハ  牝3  52.0    武豊  2:46.2     クビ   17.5   \n",
              "201910021212  16   2   4   ダイシンステルラ  牝4  55.0  川須栄彦  2:47.0      5  110.3   \n",
              "\n",
              "                人気       馬体重       調教師 course_len weather race_type  \\\n",
              "201901010101   1.0  518(-16)  [東] 木村哲也       1800       曇         芝   \n",
              "201901010101   2.0   496(-8)  [東] 手塚貴久       1800       曇         芝   \n",
              "201901010101   6.0   546(+6)  [東] 藤沢和雄       1800       曇         芝   \n",
              "201901010101   7.0   458(-8)   [東] 高木登       1800       曇         芝   \n",
              "201901010101   9.0    436(0)  [西] 矢作芳人       1800       曇         芝   \n",
              "...            ...       ...       ...        ...     ...       ...   \n",
              "201910021212  15.0   458(+8)  [西] 藤沢則雄       2600       曇         芝   \n",
              "201910021212   4.0   460(+2)  [西] 角居勝彦       2600       曇         芝   \n",
              "201910021212  12.0  478(+14)  [西] 牧浦充徳       2600       曇         芝   \n",
              "201910021212   8.0   468(+2)  [西] 浜田多実       2600       曇         芝   \n",
              "201910021212  14.0   450(+8)  [西] 牧田和弥       2600       曇         芝   \n",
              "\n",
              "             ground_state        date  \n",
              "201901010101            良  2019年7月27日  \n",
              "201901010101            良  2019年7月27日  \n",
              "201901010101            良  2019年7月27日  \n",
              "201901010101            良  2019年7月27日  \n",
              "201901010101            良  2019年7月27日  \n",
              "...                   ...         ...  \n",
              "201910021212            重   2019年9月1日  \n",
              "201910021212            重   2019年9月1日  \n",
              "201910021212            重   2019年9月1日  \n",
              "201910021212            重   2019年9月1日  \n",
              "201910021212            重   2019年9月1日  \n",
              "\n",
              "[47574 rows x 18 columns]"
            ],
            "text/html": [
              "\n",
              "  <div id=\"df-fd3b991e-6e79-4a34-af17-8397acfd9c91\">\n",
              "    <div class=\"colab-df-container\">\n",
              "      <div>\n",
              "<style scoped>\n",
              "    .dataframe tbody tr th:only-of-type {\n",
              "        vertical-align: middle;\n",
              "    }\n",
              "\n",
              "    .dataframe tbody tr th {\n",
              "        vertical-align: top;\n",
              "    }\n",
              "\n",
              "    .dataframe thead th {\n",
              "        text-align: right;\n",
              "    }\n",
              "</style>\n",
              "<table border=\"1\" class=\"dataframe\">\n",
              "  <thead>\n",
              "    <tr style=\"text-align: right;\">\n",
              "      <th></th>\n",
              "      <th>着順</th>\n",
              "      <th>枠番</th>\n",
              "      <th>馬番</th>\n",
              "      <th>馬名</th>\n",
              "      <th>性齢</th>\n",
              "      <th>斤量</th>\n",
              "      <th>騎手</th>\n",
              "      <th>タイム</th>\n",
              "      <th>着差</th>\n",
              "      <th>単勝</th>\n",
              "      <th>人気</th>\n",
              "      <th>馬体重</th>\n",
              "      <th>調教師</th>\n",
              "      <th>course_len</th>\n",
              "      <th>weather</th>\n",
              "      <th>race_type</th>\n",
              "      <th>ground_state</th>\n",
              "      <th>date</th>\n",
              "    </tr>\n",
              "  </thead>\n",
              "  <tbody>\n",
              "    <tr>\n",
              "      <th>201901010101</th>\n",
              "      <td>1</td>\n",
              "      <td>1</td>\n",
              "      <td>1</td>\n",
              "      <td>ゴルコンダ</td>\n",
              "      <td>牡2</td>\n",
              "      <td>54.0</td>\n",
              "      <td>ルメール</td>\n",
              "      <td>1:48.3</td>\n",
              "      <td>NaN</td>\n",
              "      <td>1.4</td>\n",
              "      <td>1.0</td>\n",
              "      <td>518(-16)</td>\n",
              "      <td>[東] 木村哲也</td>\n",
              "      <td>1800</td>\n",
              "      <td>曇</td>\n",
              "      <td>芝</td>\n",
              "      <td>良</td>\n",
              "      <td>2019年7月27日</td>\n",
              "    </tr>\n",
              "    <tr>\n",
              "      <th>201901010101</th>\n",
              "      <td>2</td>\n",
              "      <td>3</td>\n",
              "      <td>3</td>\n",
              "      <td>プントファイヤー</td>\n",
              "      <td>牡2</td>\n",
              "      <td>54.0</td>\n",
              "      <td>岩田康誠</td>\n",
              "      <td>1:50.1</td>\n",
              "      <td>大</td>\n",
              "      <td>3.5</td>\n",
              "      <td>2.0</td>\n",
              "      <td>496(-8)</td>\n",
              "      <td>[東] 手塚貴久</td>\n",
              "      <td>1800</td>\n",
              "      <td>曇</td>\n",
              "      <td>芝</td>\n",
              "      <td>良</td>\n",
              "      <td>2019年7月27日</td>\n",
              "    </tr>\n",
              "    <tr>\n",
              "      <th>201901010101</th>\n",
              "      <td>3</td>\n",
              "      <td>4</td>\n",
              "      <td>4</td>\n",
              "      <td>ラグリマスネグラス</td>\n",
              "      <td>牡2</td>\n",
              "      <td>51.0</td>\n",
              "      <td>団野大成</td>\n",
              "      <td>1:50.9</td>\n",
              "      <td>5</td>\n",
              "      <td>46.6</td>\n",
              "      <td>6.0</td>\n",
              "      <td>546(+6)</td>\n",
              "      <td>[東] 藤沢和雄</td>\n",
              "      <td>1800</td>\n",
              "      <td>曇</td>\n",
              "      <td>芝</td>\n",
              "      <td>良</td>\n",
              "      <td>2019年7月27日</td>\n",
              "    </tr>\n",
              "    <tr>\n",
              "      <th>201901010101</th>\n",
              "      <td>4</td>\n",
              "      <td>8</td>\n",
              "      <td>9</td>\n",
              "      <td>キタノコドウ</td>\n",
              "      <td>牡2</td>\n",
              "      <td>51.0</td>\n",
              "      <td>菅原明良</td>\n",
              "      <td>1:51.5</td>\n",
              "      <td>3.1/2</td>\n",
              "      <td>56.8</td>\n",
              "      <td>7.0</td>\n",
              "      <td>458(-8)</td>\n",
              "      <td>[東] 高木登</td>\n",
              "      <td>1800</td>\n",
              "      <td>曇</td>\n",
              "      <td>芝</td>\n",
              "      <td>良</td>\n",
              "      <td>2019年7月27日</td>\n",
              "    </tr>\n",
              "    <tr>\n",
              "      <th>201901010101</th>\n",
              "      <td>5</td>\n",
              "      <td>5</td>\n",
              "      <td>5</td>\n",
              "      <td>ネモフィラブルー</td>\n",
              "      <td>牡2</td>\n",
              "      <td>54.0</td>\n",
              "      <td>川島信二</td>\n",
              "      <td>1:51.7</td>\n",
              "      <td>1.1/2</td>\n",
              "      <td>140.3</td>\n",
              "      <td>9.0</td>\n",
              "      <td>436(0)</td>\n",
              "      <td>[西] 矢作芳人</td>\n",
              "      <td>1800</td>\n",
              "      <td>曇</td>\n",
              "      <td>芝</td>\n",
              "      <td>良</td>\n",
              "      <td>2019年7月27日</td>\n",
              "    </tr>\n",
              "    <tr>\n",
              "      <th>...</th>\n",
              "      <td>...</td>\n",
              "      <td>...</td>\n",
              "      <td>...</td>\n",
              "      <td>...</td>\n",
              "      <td>...</td>\n",
              "      <td>...</td>\n",
              "      <td>...</td>\n",
              "      <td>...</td>\n",
              "      <td>...</td>\n",
              "      <td>...</td>\n",
              "      <td>...</td>\n",
              "      <td>...</td>\n",
              "      <td>...</td>\n",
              "      <td>...</td>\n",
              "      <td>...</td>\n",
              "      <td>...</td>\n",
              "      <td>...</td>\n",
              "      <td>...</td>\n",
              "    </tr>\n",
              "    <tr>\n",
              "      <th>201910021212</th>\n",
              "      <td>12</td>\n",
              "      <td>6</td>\n",
              "      <td>11</td>\n",
              "      <td>スリープレッピー</td>\n",
              "      <td>セ6</td>\n",
              "      <td>56.0</td>\n",
              "      <td>森裕太朗</td>\n",
              "      <td>2:45.7</td>\n",
              "      <td>1/2</td>\n",
              "      <td>120.3</td>\n",
              "      <td>15.0</td>\n",
              "      <td>458(+8)</td>\n",
              "      <td>[西] 藤沢則雄</td>\n",
              "      <td>2600</td>\n",
              "      <td>曇</td>\n",
              "      <td>芝</td>\n",
              "      <td>重</td>\n",
              "      <td>2019年9月1日</td>\n",
              "    </tr>\n",
              "    <tr>\n",
              "      <th>201910021212</th>\n",
              "      <td>13</td>\n",
              "      <td>1</td>\n",
              "      <td>1</td>\n",
              "      <td>バリオラージュ</td>\n",
              "      <td>牡5</td>\n",
              "      <td>54.0</td>\n",
              "      <td>斎藤新</td>\n",
              "      <td>2:46.0</td>\n",
              "      <td>1.3/4</td>\n",
              "      <td>7.5</td>\n",
              "      <td>4.0</td>\n",
              "      <td>460(+2)</td>\n",
              "      <td>[西] 角居勝彦</td>\n",
              "      <td>2600</td>\n",
              "      <td>曇</td>\n",
              "      <td>芝</td>\n",
              "      <td>重</td>\n",
              "      <td>2019年9月1日</td>\n",
              "    </tr>\n",
              "    <tr>\n",
              "      <th>201910021212</th>\n",
              "      <td>14</td>\n",
              "      <td>2</td>\n",
              "      <td>3</td>\n",
              "      <td>サンライズアミーゴ</td>\n",
              "      <td>牡4</td>\n",
              "      <td>54.0</td>\n",
              "      <td>亀田温心</td>\n",
              "      <td>2:46.2</td>\n",
              "      <td>1</td>\n",
              "      <td>99.2</td>\n",
              "      <td>12.0</td>\n",
              "      <td>478(+14)</td>\n",
              "      <td>[西] 牧浦充徳</td>\n",
              "      <td>2600</td>\n",
              "      <td>曇</td>\n",
              "      <td>芝</td>\n",
              "      <td>重</td>\n",
              "      <td>2019年9月1日</td>\n",
              "    </tr>\n",
              "    <tr>\n",
              "      <th>201910021212</th>\n",
              "      <td>15</td>\n",
              "      <td>6</td>\n",
              "      <td>12</td>\n",
              "      <td>トロハ</td>\n",
              "      <td>牝3</td>\n",
              "      <td>52.0</td>\n",
              "      <td>武豊</td>\n",
              "      <td>2:46.2</td>\n",
              "      <td>クビ</td>\n",
              "      <td>17.5</td>\n",
              "      <td>8.0</td>\n",
              "      <td>468(+2)</td>\n",
              "      <td>[西] 浜田多実</td>\n",
              "      <td>2600</td>\n",
              "      <td>曇</td>\n",
              "      <td>芝</td>\n",
              "      <td>重</td>\n",
              "      <td>2019年9月1日</td>\n",
              "    </tr>\n",
              "    <tr>\n",
              "      <th>201910021212</th>\n",
              "      <td>16</td>\n",
              "      <td>2</td>\n",
              "      <td>4</td>\n",
              "      <td>ダイシンステルラ</td>\n",
              "      <td>牝4</td>\n",
              "      <td>55.0</td>\n",
              "      <td>川須栄彦</td>\n",
              "      <td>2:47.0</td>\n",
              "      <td>5</td>\n",
              "      <td>110.3</td>\n",
              "      <td>14.0</td>\n",
              "      <td>450(+8)</td>\n",
              "      <td>[西] 牧田和弥</td>\n",
              "      <td>2600</td>\n",
              "      <td>曇</td>\n",
              "      <td>芝</td>\n",
              "      <td>重</td>\n",
              "      <td>2019年9月1日</td>\n",
              "    </tr>\n",
              "  </tbody>\n",
              "</table>\n",
              "<p>47574 rows × 18 columns</p>\n",
              "</div>\n",
              "      <button class=\"colab-df-convert\" onclick=\"convertToInteractive('df-fd3b991e-6e79-4a34-af17-8397acfd9c91')\"\n",
              "              title=\"Convert this dataframe to an interactive table.\"\n",
              "              style=\"display:none;\">\n",
              "        \n",
              "  <svg xmlns=\"http://www.w3.org/2000/svg\" height=\"24px\"viewBox=\"0 0 24 24\"\n",
              "       width=\"24px\">\n",
              "    <path d=\"M0 0h24v24H0V0z\" fill=\"none\"/>\n",
              "    <path d=\"M18.56 5.44l.94 2.06.94-2.06 2.06-.94-2.06-.94-.94-2.06-.94 2.06-2.06.94zm-11 1L8.5 8.5l.94-2.06 2.06-.94-2.06-.94L8.5 2.5l-.94 2.06-2.06.94zm10 10l.94 2.06.94-2.06 2.06-.94-2.06-.94-.94-2.06-.94 2.06-2.06.94z\"/><path d=\"M17.41 7.96l-1.37-1.37c-.4-.4-.92-.59-1.43-.59-.52 0-1.04.2-1.43.59L10.3 9.45l-7.72 7.72c-.78.78-.78 2.05 0 2.83L4 21.41c.39.39.9.59 1.41.59.51 0 1.02-.2 1.41-.59l7.78-7.78 2.81-2.81c.8-.78.8-2.07 0-2.86zM5.41 20L4 18.59l7.72-7.72 1.47 1.35L5.41 20z\"/>\n",
              "  </svg>\n",
              "      </button>\n",
              "      \n",
              "  <style>\n",
              "    .colab-df-container {\n",
              "      display:flex;\n",
              "      flex-wrap:wrap;\n",
              "      gap: 12px;\n",
              "    }\n",
              "\n",
              "    .colab-df-convert {\n",
              "      background-color: #E8F0FE;\n",
              "      border: none;\n",
              "      border-radius: 50%;\n",
              "      cursor: pointer;\n",
              "      display: none;\n",
              "      fill: #1967D2;\n",
              "      height: 32px;\n",
              "      padding: 0 0 0 0;\n",
              "      width: 32px;\n",
              "    }\n",
              "\n",
              "    .colab-df-convert:hover {\n",
              "      background-color: #E2EBFA;\n",
              "      box-shadow: 0px 1px 2px rgba(60, 64, 67, 0.3), 0px 1px 3px 1px rgba(60, 64, 67, 0.15);\n",
              "      fill: #174EA6;\n",
              "    }\n",
              "\n",
              "    [theme=dark] .colab-df-convert {\n",
              "      background-color: #3B4455;\n",
              "      fill: #D2E3FC;\n",
              "    }\n",
              "\n",
              "    [theme=dark] .colab-df-convert:hover {\n",
              "      background-color: #434B5C;\n",
              "      box-shadow: 0px 1px 3px 1px rgba(0, 0, 0, 0.15);\n",
              "      filter: drop-shadow(0px 1px 2px rgba(0, 0, 0, 0.3));\n",
              "      fill: #FFFFFF;\n",
              "    }\n",
              "  </style>\n",
              "\n",
              "      <script>\n",
              "        const buttonEl =\n",
              "          document.querySelector('#df-fd3b991e-6e79-4a34-af17-8397acfd9c91 button.colab-df-convert');\n",
              "        buttonEl.style.display =\n",
              "          google.colab.kernel.accessAllowed ? 'block' : 'none';\n",
              "\n",
              "        async function convertToInteractive(key) {\n",
              "          const element = document.querySelector('#df-fd3b991e-6e79-4a34-af17-8397acfd9c91');\n",
              "          const dataTable =\n",
              "            await google.colab.kernel.invokeFunction('convertToInteractive',\n",
              "                                                     [key], {});\n",
              "          if (!dataTable) return;\n",
              "\n",
              "          const docLinkHtml = 'Like what you see? Visit the ' +\n",
              "            '<a target=\"_blank\" href=https://colab.research.google.com/notebooks/data_table.ipynb>data table notebook</a>'\n",
              "            + ' to learn more about interactive tables.';\n",
              "          element.innerHTML = '';\n",
              "          dataTable['output_type'] = 'display_data';\n",
              "          await google.colab.output.renderOutput(dataTable, element);\n",
              "          const docLink = document.createElement('div');\n",
              "          docLink.innerHTML = docLinkHtml;\n",
              "          element.appendChild(docLink);\n",
              "        }\n",
              "      </script>\n",
              "    </div>\n",
              "  </div>\n",
              "  "
            ]
          },
          "metadata": {},
          "execution_count": 4
        }
      ]
    },
    {
      "cell_type": "code",
      "source": [
        "results_addinfo['course_len'].isnull().sum()"
      ],
      "metadata": {
        "colab": {
          "base_uri": "https://localhost:8080/"
        },
        "id": "-JYxwII1q96o",
        "outputId": "69f8dc1b-171a-44e3-846c-2972edb49d93"
      },
      "execution_count": null,
      "outputs": [
        {
          "output_type": "execute_result",
          "data": {
            "text/plain": [
              "0"
            ]
          },
          "metadata": {},
          "execution_count": 5
        }
      ]
    },
    {
      "cell_type": "code",
      "source": [
        "import datetime\n",
        "\n",
        "def preproccessing(results):\n",
        "  df = results.copy()\n",
        "\n",
        "  # 着順に数字以外の文字列が含まれているものを取り除く\n",
        "  df = df[~(df[\"着順\"].astype(str).str.contains(\"\\D\"))]\n",
        "  df[\"着順\"] = df[\"着順\"].astype(int)\n",
        "\n",
        "  # 性齢を性と年齢に分ける\n",
        "  df[\"性\"] = df[\"性齢\"].map(lambda x: str(x)[0])\n",
        "  df[\"年齢\"] = df[\"性齢\"].map(lambda x: str(x)[1:]).astype(int)\n",
        "\n",
        "  # 馬体重を体重と体重変化に分ける\n",
        "  df[\"体重\"] = df[\"馬体重\"].str.split(\"(\", expand=True)[0].astype(int)\n",
        "  df[\"体重変化\"] = df[\"馬体重\"].str.split(\"(\", expand=True)[1].str[:-1].astype(int)\n",
        "\n",
        "  # データをint, floatに変換\n",
        "  df[\"単勝\"] = df[\"単勝\"].astype(float)\n",
        "\n",
        "  # データをobject, intに変換\n",
        "  df[\"course_len\"] = df[\"course_len\"].astype(int)\n",
        "\n",
        "  # 不要な列を削除\n",
        "  df.drop([\"タイム\", \"着差\", \"調教師\", \"性齢\", \"馬体重\"], axis=1, inplace=True)\n",
        "\n",
        "  df['date'] = pd.to_datetime(df['date'],format='%Y年%m月%d日')\n",
        "\n",
        "  return df\n",
        "\n",
        "def split_data(df,test_size=0.3):\n",
        "  sorted_id_list = df.sort_values('date').index.unique()\n",
        "  train_id_list = sorted_id_list[:round(len(sorted_id_list) * (1-test_size))]\n",
        "  test_id_list = sorted_id_list[round(len(sorted_id_list) * (1-test_size)):]\n",
        "  train = df.loc[train_id_list]\n",
        "  test = df.loc[test_id_list]\n",
        "  return train,test"
      ],
      "metadata": {
        "id": "C5jzrdmFrVHX"
      },
      "execution_count": null,
      "outputs": []
    },
    {
      "cell_type": "code",
      "source": [
        "results_p = preproccessing(results_addinfo)"
      ],
      "metadata": {
        "id": "AazBWuwVwrpb"
      },
      "execution_count": null,
      "outputs": []
    },
    {
      "cell_type": "code",
      "source": [
        "results_p.info()"
      ],
      "metadata": {
        "colab": {
          "base_uri": "https://localhost:8080/"
        },
        "id": "YB81HAwEw4Yh",
        "outputId": "e1619b91-2b9b-4c51-f47a-83d1d05492b2"
      },
      "execution_count": null,
      "outputs": [
        {
          "output_type": "stream",
          "name": "stdout",
          "text": [
            "<class 'pandas.core.frame.DataFrame'>\n",
            "Index: 47118 entries, 201901010101 to 201910021212\n",
            "Data columns (total 17 columns):\n",
            " #   Column        Non-Null Count  Dtype         \n",
            "---  ------        --------------  -----         \n",
            " 0   着順            47118 non-null  int64         \n",
            " 1   枠番            47118 non-null  int64         \n",
            " 2   馬番            47118 non-null  int64         \n",
            " 3   馬名            47118 non-null  object        \n",
            " 4   斤量            47118 non-null  float64       \n",
            " 5   騎手            47118 non-null  object        \n",
            " 6   単勝            47118 non-null  float64       \n",
            " 7   人気            47118 non-null  float64       \n",
            " 8   course_len    47118 non-null  int64         \n",
            " 9   weather       47118 non-null  object        \n",
            " 10  race_type     47118 non-null  object        \n",
            " 11  ground_state  47118 non-null  object        \n",
            " 12  date          47118 non-null  datetime64[ns]\n",
            " 13  性             47118 non-null  object        \n",
            " 14  年齢            47118 non-null  int64         \n",
            " 15  体重            47118 non-null  int64         \n",
            " 16  体重変化          47118 non-null  int64         \n",
            "dtypes: datetime64[ns](1), float64(3), int64(7), object(6)\n",
            "memory usage: 6.5+ MB\n"
          ]
        }
      ]
    },
    {
      "cell_type": "code",
      "source": [
        "sorted_id_list = results_p.sort_values('date').index.unique()"
      ],
      "metadata": {
        "id": "6uopbkwmxGIB"
      },
      "execution_count": null,
      "outputs": []
    },
    {
      "cell_type": "code",
      "source": [
        "round(len(sorted_id_list) * 0.7)"
      ],
      "metadata": {
        "colab": {
          "base_uri": "https://localhost:8080/"
        },
        "id": "UJjWIxjtxSX0",
        "outputId": "e0e9bfab-912f-471c-ac03-39bb3d8a38c1"
      },
      "execution_count": null,
      "outputs": [
        {
          "output_type": "execute_result",
          "data": {
            "text/plain": [
              "2416"
            ]
          },
          "metadata": {},
          "execution_count": 10
        }
      ]
    },
    {
      "cell_type": "code",
      "source": [
        "train_id_list = sorted_id_list[:round(len(sorted_id_list) * 0.7)]\n",
        "test_id_list = sorted_id_list[round(len(sorted_id_list) * 0.7):]"
      ],
      "metadata": {
        "id": "AT5L4vJdxUzk"
      },
      "execution_count": null,
      "outputs": []
    },
    {
      "cell_type": "code",
      "source": [
        "train = results_p.loc[train_id_list]\n",
        "test = results_p.loc[test_id_list]"
      ],
      "metadata": {
        "id": "B011PSRNxl21"
      },
      "execution_count": null,
      "outputs": []
    },
    {
      "cell_type": "code",
      "source": [
        "len(train)/len(results_p)"
      ],
      "metadata": {
        "colab": {
          "base_uri": "https://localhost:8080/"
        },
        "id": "1WFINewkyL_X",
        "outputId": "e55d0c0e-8177-437b-fb46-0b213fd4ca35"
      },
      "execution_count": null,
      "outputs": [
        {
          "output_type": "execute_result",
          "data": {
            "text/plain": [
              "0.7030646462073942"
            ]
          },
          "metadata": {},
          "execution_count": 13
        }
      ]
    },
    {
      "cell_type": "code",
      "source": [
        "len(test)"
      ],
      "metadata": {
        "colab": {
          "base_uri": "https://localhost:8080/"
        },
        "id": "mCYyJOtnyNfE",
        "outputId": "3f05fce3-7eb4-4279-e393-dcddbf0959ee"
      },
      "execution_count": null,
      "outputs": [
        {
          "output_type": "execute_result",
          "data": {
            "text/plain": [
              "13991"
            ]
          },
          "metadata": {},
          "execution_count": 14
        }
      ]
    },
    {
      "cell_type": "code",
      "source": [
        "len(results_p)"
      ],
      "metadata": {
        "colab": {
          "base_uri": "https://localhost:8080/"
        },
        "id": "EUshgXTyyOqS",
        "outputId": "6abc52f0-d29a-473c-f470-9118bac55eba"
      },
      "execution_count": null,
      "outputs": [
        {
          "output_type": "execute_result",
          "data": {
            "text/plain": [
              "47118"
            ]
          },
          "metadata": {},
          "execution_count": 15
        }
      ]
    },
    {
      "cell_type": "code",
      "source": [
        "train,test= split_data(results_p,0.3)"
      ],
      "metadata": {
        "id": "-l5BAj9Ty0BY"
      },
      "execution_count": null,
      "outputs": []
    },
    {
      "cell_type": "code",
      "source": [
        "len(train)"
      ],
      "metadata": {
        "colab": {
          "base_uri": "https://localhost:8080/"
        },
        "id": "OIrnlGuKy5rd",
        "outputId": "e36c8540-43b1-4d22-9de6-fc4e9df85344"
      },
      "execution_count": null,
      "outputs": [
        {
          "output_type": "execute_result",
          "data": {
            "text/plain": [
              "33127"
            ]
          },
          "metadata": {},
          "execution_count": 17
        }
      ]
    },
    {
      "cell_type": "code",
      "source": [
        "len(test)"
      ],
      "metadata": {
        "colab": {
          "base_uri": "https://localhost:8080/"
        },
        "id": "hQQusl9Dy9g2",
        "outputId": "37c8776c-9fb5-48aa-8f68-8dd7401ce5cd"
      },
      "execution_count": null,
      "outputs": [
        {
          "output_type": "execute_result",
          "data": {
            "text/plain": [
              "13991"
            ]
          },
          "metadata": {},
          "execution_count": 18
        }
      ]
    },
    {
      "cell_type": "code",
      "source": [
        "results_p.drop(['馬名'],axis=1,inplace=True)"
      ],
      "metadata": {
        "id": "xuqgKtjHzG7o"
      },
      "execution_count": null,
      "outputs": []
    },
    {
      "cell_type": "code",
      "source": [
        "results_d = pd.get_dummies(results_p)"
      ],
      "metadata": {
        "id": "MEYHQ9HbzTRy"
      },
      "execution_count": null,
      "outputs": []
    },
    {
      "cell_type": "code",
      "source": [
        "results_d['rank'] = results_d['着順'].map(lambda x: x if x<4 else 4)"
      ],
      "metadata": {
        "id": "VvmfaCIgzZOM"
      },
      "execution_count": null,
      "outputs": []
    },
    {
      "cell_type": "code",
      "source": [
        "train,test = split_data(results_d,0.3)"
      ],
      "metadata": {
        "id": "J6WdWVd_zwIa"
      },
      "execution_count": null,
      "outputs": []
    },
    {
      "cell_type": "code",
      "source": [
        "from imblearn.under_sampling import RandomUnderSampler\n",
        "\n",
        "rank_1 = train['rank'].value_counts()[1]\n",
        "rank_2 = train['rank'].value_counts()[2]\n",
        "rank_3 = train['rank'].value_counts()[3]\n",
        "\n",
        "rus = RandomUnderSampler(sampling_strategy={1:rank_1,2:rank_2,3:rank_3,4:rank_1},random_state=71)\n",
        "\n",
        "X_train = train.drop(['着順','date','rank'],axis=1)\n",
        "y_train = train['rank']\n",
        "X_test = test.drop(['着順','date','rank'],axis=1)\n",
        "y_test = test['rank']\n",
        "\n",
        "X_train_rus,y_train_rus = rus.fit_resample(X_train,y_train)"
      ],
      "metadata": {
        "id": "FpKUVhl51bCt"
      },
      "execution_count": null,
      "outputs": []
    },
    {
      "cell_type": "code",
      "source": [
        "from sklearn.ensemble import RandomForestClassifier\n",
        "\n",
        "clf = RandomForestClassifier(random_state=0)\n",
        "clf.fit(X_train_rus,y_train_rus)\n",
        "\n",
        "print(clf.score(X_train,y_train), clf.score(X_test,y_test))"
      ],
      "metadata": {
        "colab": {
          "base_uri": "https://localhost:8080/"
        },
        "id": "JnpxEBYG3g17",
        "outputId": "f0298ac9-498f-4ff6-b5aa-6acbe2f6274b"
      },
      "execution_count": null,
      "outputs": [
        {
          "output_type": "stream",
          "name": "stdout",
          "text": [
            "0.7229148428774111 0.5393467228932886\n"
          ]
        }
      ]
    },
    {
      "cell_type": "code",
      "source": [
        "results.head()"
      ],
      "metadata": {
        "colab": {
          "base_uri": "https://localhost:8080/",
          "height": 528
        },
        "id": "9Ky_cvV4bvmb",
        "outputId": "aebf5f05-10b4-4f54-eb03-af6ce1d59572"
      },
      "execution_count": null,
      "outputs": [
        {
          "output_type": "execute_result",
          "data": {
            "text/plain": [
              "             着順  枠番  馬番         馬名  性齢    斤量    騎手     タイム     着差     単勝   人気  \\\n",
              "201901010101  1   1   1      ゴルコンダ  牡2  54.0  ルメール  1:48.3    NaN    1.4  1.0   \n",
              "201901010101  2   3   3   プントファイヤー  牡2  54.0  岩田康誠  1:50.1      大    3.5  2.0   \n",
              "201901010101  3   4   4  ラグリマスネグラス  牡2  51.0  団野大成  1:50.9      5   46.6  6.0   \n",
              "201901010101  4   8   9     キタノコドウ  牡2  51.0  菅原明良  1:51.5  3.1/2   56.8  7.0   \n",
              "201901010101  5   5   5   ネモフィラブルー  牡2  54.0  川島信二  1:51.7  1.1/2  140.3  9.0   \n",
              "\n",
              "                   馬体重       調教師  \n",
              "201901010101  518(-16)  [東] 木村哲也  \n",
              "201901010101   496(-8)  [東] 手塚貴久  \n",
              "201901010101   546(+6)  [東] 藤沢和雄  \n",
              "201901010101   458(-8)   [東] 高木登  \n",
              "201901010101    436(0)  [西] 矢作芳人  "
            ],
            "text/html": [
              "\n",
              "  <div id=\"df-40000e21-8da9-4719-9df9-2dde5bb789f0\">\n",
              "    <div class=\"colab-df-container\">\n",
              "      <div>\n",
              "<style scoped>\n",
              "    .dataframe tbody tr th:only-of-type {\n",
              "        vertical-align: middle;\n",
              "    }\n",
              "\n",
              "    .dataframe tbody tr th {\n",
              "        vertical-align: top;\n",
              "    }\n",
              "\n",
              "    .dataframe thead th {\n",
              "        text-align: right;\n",
              "    }\n",
              "</style>\n",
              "<table border=\"1\" class=\"dataframe\">\n",
              "  <thead>\n",
              "    <tr style=\"text-align: right;\">\n",
              "      <th></th>\n",
              "      <th>着順</th>\n",
              "      <th>枠番</th>\n",
              "      <th>馬番</th>\n",
              "      <th>馬名</th>\n",
              "      <th>性齢</th>\n",
              "      <th>斤量</th>\n",
              "      <th>騎手</th>\n",
              "      <th>タイム</th>\n",
              "      <th>着差</th>\n",
              "      <th>単勝</th>\n",
              "      <th>人気</th>\n",
              "      <th>馬体重</th>\n",
              "      <th>調教師</th>\n",
              "    </tr>\n",
              "  </thead>\n",
              "  <tbody>\n",
              "    <tr>\n",
              "      <th>201901010101</th>\n",
              "      <td>1</td>\n",
              "      <td>1</td>\n",
              "      <td>1</td>\n",
              "      <td>ゴルコンダ</td>\n",
              "      <td>牡2</td>\n",
              "      <td>54.0</td>\n",
              "      <td>ルメール</td>\n",
              "      <td>1:48.3</td>\n",
              "      <td>NaN</td>\n",
              "      <td>1.4</td>\n",
              "      <td>1.0</td>\n",
              "      <td>518(-16)</td>\n",
              "      <td>[東] 木村哲也</td>\n",
              "    </tr>\n",
              "    <tr>\n",
              "      <th>201901010101</th>\n",
              "      <td>2</td>\n",
              "      <td>3</td>\n",
              "      <td>3</td>\n",
              "      <td>プントファイヤー</td>\n",
              "      <td>牡2</td>\n",
              "      <td>54.0</td>\n",
              "      <td>岩田康誠</td>\n",
              "      <td>1:50.1</td>\n",
              "      <td>大</td>\n",
              "      <td>3.5</td>\n",
              "      <td>2.0</td>\n",
              "      <td>496(-8)</td>\n",
              "      <td>[東] 手塚貴久</td>\n",
              "    </tr>\n",
              "    <tr>\n",
              "      <th>201901010101</th>\n",
              "      <td>3</td>\n",
              "      <td>4</td>\n",
              "      <td>4</td>\n",
              "      <td>ラグリマスネグラス</td>\n",
              "      <td>牡2</td>\n",
              "      <td>51.0</td>\n",
              "      <td>団野大成</td>\n",
              "      <td>1:50.9</td>\n",
              "      <td>5</td>\n",
              "      <td>46.6</td>\n",
              "      <td>6.0</td>\n",
              "      <td>546(+6)</td>\n",
              "      <td>[東] 藤沢和雄</td>\n",
              "    </tr>\n",
              "    <tr>\n",
              "      <th>201901010101</th>\n",
              "      <td>4</td>\n",
              "      <td>8</td>\n",
              "      <td>9</td>\n",
              "      <td>キタノコドウ</td>\n",
              "      <td>牡2</td>\n",
              "      <td>51.0</td>\n",
              "      <td>菅原明良</td>\n",
              "      <td>1:51.5</td>\n",
              "      <td>3.1/2</td>\n",
              "      <td>56.8</td>\n",
              "      <td>7.0</td>\n",
              "      <td>458(-8)</td>\n",
              "      <td>[東] 高木登</td>\n",
              "    </tr>\n",
              "    <tr>\n",
              "      <th>201901010101</th>\n",
              "      <td>5</td>\n",
              "      <td>5</td>\n",
              "      <td>5</td>\n",
              "      <td>ネモフィラブルー</td>\n",
              "      <td>牡2</td>\n",
              "      <td>54.0</td>\n",
              "      <td>川島信二</td>\n",
              "      <td>1:51.7</td>\n",
              "      <td>1.1/2</td>\n",
              "      <td>140.3</td>\n",
              "      <td>9.0</td>\n",
              "      <td>436(0)</td>\n",
              "      <td>[西] 矢作芳人</td>\n",
              "    </tr>\n",
              "  </tbody>\n",
              "</table>\n",
              "</div>\n",
              "      <button class=\"colab-df-convert\" onclick=\"convertToInteractive('df-40000e21-8da9-4719-9df9-2dde5bb789f0')\"\n",
              "              title=\"Convert this dataframe to an interactive table.\"\n",
              "              style=\"display:none;\">\n",
              "        \n",
              "  <svg xmlns=\"http://www.w3.org/2000/svg\" height=\"24px\"viewBox=\"0 0 24 24\"\n",
              "       width=\"24px\">\n",
              "    <path d=\"M0 0h24v24H0V0z\" fill=\"none\"/>\n",
              "    <path d=\"M18.56 5.44l.94 2.06.94-2.06 2.06-.94-2.06-.94-.94-2.06-.94 2.06-2.06.94zm-11 1L8.5 8.5l.94-2.06 2.06-.94-2.06-.94L8.5 2.5l-.94 2.06-2.06.94zm10 10l.94 2.06.94-2.06 2.06-.94-2.06-.94-.94-2.06-.94 2.06-2.06.94z\"/><path d=\"M17.41 7.96l-1.37-1.37c-.4-.4-.92-.59-1.43-.59-.52 0-1.04.2-1.43.59L10.3 9.45l-7.72 7.72c-.78.78-.78 2.05 0 2.83L4 21.41c.39.39.9.59 1.41.59.51 0 1.02-.2 1.41-.59l7.78-7.78 2.81-2.81c.8-.78.8-2.07 0-2.86zM5.41 20L4 18.59l7.72-7.72 1.47 1.35L5.41 20z\"/>\n",
              "  </svg>\n",
              "      </button>\n",
              "      \n",
              "  <style>\n",
              "    .colab-df-container {\n",
              "      display:flex;\n",
              "      flex-wrap:wrap;\n",
              "      gap: 12px;\n",
              "    }\n",
              "\n",
              "    .colab-df-convert {\n",
              "      background-color: #E8F0FE;\n",
              "      border: none;\n",
              "      border-radius: 50%;\n",
              "      cursor: pointer;\n",
              "      display: none;\n",
              "      fill: #1967D2;\n",
              "      height: 32px;\n",
              "      padding: 0 0 0 0;\n",
              "      width: 32px;\n",
              "    }\n",
              "\n",
              "    .colab-df-convert:hover {\n",
              "      background-color: #E2EBFA;\n",
              "      box-shadow: 0px 1px 2px rgba(60, 64, 67, 0.3), 0px 1px 3px 1px rgba(60, 64, 67, 0.15);\n",
              "      fill: #174EA6;\n",
              "    }\n",
              "\n",
              "    [theme=dark] .colab-df-convert {\n",
              "      background-color: #3B4455;\n",
              "      fill: #D2E3FC;\n",
              "    }\n",
              "\n",
              "    [theme=dark] .colab-df-convert:hover {\n",
              "      background-color: #434B5C;\n",
              "      box-shadow: 0px 1px 3px 1px rgba(0, 0, 0, 0.15);\n",
              "      filter: drop-shadow(0px 1px 2px rgba(0, 0, 0, 0.3));\n",
              "      fill: #FFFFFF;\n",
              "    }\n",
              "  </style>\n",
              "\n",
              "      <script>\n",
              "        const buttonEl =\n",
              "          document.querySelector('#df-40000e21-8da9-4719-9df9-2dde5bb789f0 button.colab-df-convert');\n",
              "        buttonEl.style.display =\n",
              "          google.colab.kernel.accessAllowed ? 'block' : 'none';\n",
              "\n",
              "        async function convertToInteractive(key) {\n",
              "          const element = document.querySelector('#df-40000e21-8da9-4719-9df9-2dde5bb789f0');\n",
              "          const dataTable =\n",
              "            await google.colab.kernel.invokeFunction('convertToInteractive',\n",
              "                                                     [key], {});\n",
              "          if (!dataTable) return;\n",
              "\n",
              "          const docLinkHtml = 'Like what you see? Visit the ' +\n",
              "            '<a target=\"_blank\" href=https://colab.research.google.com/notebooks/data_table.ipynb>data table notebook</a>'\n",
              "            + ' to learn more about interactive tables.';\n",
              "          element.innerHTML = '';\n",
              "          dataTable['output_type'] = 'display_data';\n",
              "          await google.colab.output.renderOutput(dataTable, element);\n",
              "          const docLink = document.createElement('div');\n",
              "          docLink.innerHTML = docLinkHtml;\n",
              "          element.appendChild(docLink);\n",
              "        }\n",
              "      </script>\n",
              "    </div>\n",
              "  </div>\n",
              "  "
            ]
          },
          "metadata": {},
          "execution_count": 25
        }
      ]
    },
    {
      "cell_type": "code",
      "source": [
        "results_p = preproccessing(results_addinfo)\n",
        "results_p.head()"
      ],
      "metadata": {
        "colab": {
          "base_uri": "https://localhost:8080/",
          "height": 860
        },
        "id": "vOwCjrCFcEoy",
        "outputId": "0cfde3a2-90e0-40f4-9ccb-f91c534cdc1f"
      },
      "execution_count": null,
      "outputs": [
        {
          "output_type": "execute_result",
          "data": {
            "text/plain": [
              "              着順  枠番  馬番         馬名    斤量    騎手     単勝   人気  course_len  \\\n",
              "201901010101   1   1   1      ゴルコンダ  54.0  ルメール    1.4  1.0        1800   \n",
              "201901010101   2   3   3   プントファイヤー  54.0  岩田康誠    3.5  2.0        1800   \n",
              "201901010101   3   4   4  ラグリマスネグラス  51.0  団野大成   46.6  6.0        1800   \n",
              "201901010101   4   8   9     キタノコドウ  51.0  菅原明良   56.8  7.0        1800   \n",
              "201901010101   5   5   5   ネモフィラブルー  54.0  川島信二  140.3  9.0        1800   \n",
              "\n",
              "             weather race_type ground_state       date  性  年齢   体重  体重変化  \n",
              "201901010101       曇         芝            良 2019-07-27  牡   2  518   -16  \n",
              "201901010101       曇         芝            良 2019-07-27  牡   2  496    -8  \n",
              "201901010101       曇         芝            良 2019-07-27  牡   2  546     6  \n",
              "201901010101       曇         芝            良 2019-07-27  牡   2  458    -8  \n",
              "201901010101       曇         芝            良 2019-07-27  牡   2  436     0  "
            ],
            "text/html": [
              "\n",
              "  <div id=\"df-13a07749-fc87-4064-bc6b-6b5eeb873748\">\n",
              "    <div class=\"colab-df-container\">\n",
              "      <div>\n",
              "<style scoped>\n",
              "    .dataframe tbody tr th:only-of-type {\n",
              "        vertical-align: middle;\n",
              "    }\n",
              "\n",
              "    .dataframe tbody tr th {\n",
              "        vertical-align: top;\n",
              "    }\n",
              "\n",
              "    .dataframe thead th {\n",
              "        text-align: right;\n",
              "    }\n",
              "</style>\n",
              "<table border=\"1\" class=\"dataframe\">\n",
              "  <thead>\n",
              "    <tr style=\"text-align: right;\">\n",
              "      <th></th>\n",
              "      <th>着順</th>\n",
              "      <th>枠番</th>\n",
              "      <th>馬番</th>\n",
              "      <th>馬名</th>\n",
              "      <th>斤量</th>\n",
              "      <th>騎手</th>\n",
              "      <th>単勝</th>\n",
              "      <th>人気</th>\n",
              "      <th>course_len</th>\n",
              "      <th>weather</th>\n",
              "      <th>race_type</th>\n",
              "      <th>ground_state</th>\n",
              "      <th>date</th>\n",
              "      <th>性</th>\n",
              "      <th>年齢</th>\n",
              "      <th>体重</th>\n",
              "      <th>体重変化</th>\n",
              "    </tr>\n",
              "  </thead>\n",
              "  <tbody>\n",
              "    <tr>\n",
              "      <th>201901010101</th>\n",
              "      <td>1</td>\n",
              "      <td>1</td>\n",
              "      <td>1</td>\n",
              "      <td>ゴルコンダ</td>\n",
              "      <td>54.0</td>\n",
              "      <td>ルメール</td>\n",
              "      <td>1.4</td>\n",
              "      <td>1.0</td>\n",
              "      <td>1800</td>\n",
              "      <td>曇</td>\n",
              "      <td>芝</td>\n",
              "      <td>良</td>\n",
              "      <td>2019-07-27</td>\n",
              "      <td>牡</td>\n",
              "      <td>2</td>\n",
              "      <td>518</td>\n",
              "      <td>-16</td>\n",
              "    </tr>\n",
              "    <tr>\n",
              "      <th>201901010101</th>\n",
              "      <td>2</td>\n",
              "      <td>3</td>\n",
              "      <td>3</td>\n",
              "      <td>プントファイヤー</td>\n",
              "      <td>54.0</td>\n",
              "      <td>岩田康誠</td>\n",
              "      <td>3.5</td>\n",
              "      <td>2.0</td>\n",
              "      <td>1800</td>\n",
              "      <td>曇</td>\n",
              "      <td>芝</td>\n",
              "      <td>良</td>\n",
              "      <td>2019-07-27</td>\n",
              "      <td>牡</td>\n",
              "      <td>2</td>\n",
              "      <td>496</td>\n",
              "      <td>-8</td>\n",
              "    </tr>\n",
              "    <tr>\n",
              "      <th>201901010101</th>\n",
              "      <td>3</td>\n",
              "      <td>4</td>\n",
              "      <td>4</td>\n",
              "      <td>ラグリマスネグラス</td>\n",
              "      <td>51.0</td>\n",
              "      <td>団野大成</td>\n",
              "      <td>46.6</td>\n",
              "      <td>6.0</td>\n",
              "      <td>1800</td>\n",
              "      <td>曇</td>\n",
              "      <td>芝</td>\n",
              "      <td>良</td>\n",
              "      <td>2019-07-27</td>\n",
              "      <td>牡</td>\n",
              "      <td>2</td>\n",
              "      <td>546</td>\n",
              "      <td>6</td>\n",
              "    </tr>\n",
              "    <tr>\n",
              "      <th>201901010101</th>\n",
              "      <td>4</td>\n",
              "      <td>8</td>\n",
              "      <td>9</td>\n",
              "      <td>キタノコドウ</td>\n",
              "      <td>51.0</td>\n",
              "      <td>菅原明良</td>\n",
              "      <td>56.8</td>\n",
              "      <td>7.0</td>\n",
              "      <td>1800</td>\n",
              "      <td>曇</td>\n",
              "      <td>芝</td>\n",
              "      <td>良</td>\n",
              "      <td>2019-07-27</td>\n",
              "      <td>牡</td>\n",
              "      <td>2</td>\n",
              "      <td>458</td>\n",
              "      <td>-8</td>\n",
              "    </tr>\n",
              "    <tr>\n",
              "      <th>201901010101</th>\n",
              "      <td>5</td>\n",
              "      <td>5</td>\n",
              "      <td>5</td>\n",
              "      <td>ネモフィラブルー</td>\n",
              "      <td>54.0</td>\n",
              "      <td>川島信二</td>\n",
              "      <td>140.3</td>\n",
              "      <td>9.0</td>\n",
              "      <td>1800</td>\n",
              "      <td>曇</td>\n",
              "      <td>芝</td>\n",
              "      <td>良</td>\n",
              "      <td>2019-07-27</td>\n",
              "      <td>牡</td>\n",
              "      <td>2</td>\n",
              "      <td>436</td>\n",
              "      <td>0</td>\n",
              "    </tr>\n",
              "  </tbody>\n",
              "</table>\n",
              "</div>\n",
              "      <button class=\"colab-df-convert\" onclick=\"convertToInteractive('df-13a07749-fc87-4064-bc6b-6b5eeb873748')\"\n",
              "              title=\"Convert this dataframe to an interactive table.\"\n",
              "              style=\"display:none;\">\n",
              "        \n",
              "  <svg xmlns=\"http://www.w3.org/2000/svg\" height=\"24px\"viewBox=\"0 0 24 24\"\n",
              "       width=\"24px\">\n",
              "    <path d=\"M0 0h24v24H0V0z\" fill=\"none\"/>\n",
              "    <path d=\"M18.56 5.44l.94 2.06.94-2.06 2.06-.94-2.06-.94-.94-2.06-.94 2.06-2.06.94zm-11 1L8.5 8.5l.94-2.06 2.06-.94-2.06-.94L8.5 2.5l-.94 2.06-2.06.94zm10 10l.94 2.06.94-2.06 2.06-.94-2.06-.94-.94-2.06-.94 2.06-2.06.94z\"/><path d=\"M17.41 7.96l-1.37-1.37c-.4-.4-.92-.59-1.43-.59-.52 0-1.04.2-1.43.59L10.3 9.45l-7.72 7.72c-.78.78-.78 2.05 0 2.83L4 21.41c.39.39.9.59 1.41.59.51 0 1.02-.2 1.41-.59l7.78-7.78 2.81-2.81c.8-.78.8-2.07 0-2.86zM5.41 20L4 18.59l7.72-7.72 1.47 1.35L5.41 20z\"/>\n",
              "  </svg>\n",
              "      </button>\n",
              "      \n",
              "  <style>\n",
              "    .colab-df-container {\n",
              "      display:flex;\n",
              "      flex-wrap:wrap;\n",
              "      gap: 12px;\n",
              "    }\n",
              "\n",
              "    .colab-df-convert {\n",
              "      background-color: #E8F0FE;\n",
              "      border: none;\n",
              "      border-radius: 50%;\n",
              "      cursor: pointer;\n",
              "      display: none;\n",
              "      fill: #1967D2;\n",
              "      height: 32px;\n",
              "      padding: 0 0 0 0;\n",
              "      width: 32px;\n",
              "    }\n",
              "\n",
              "    .colab-df-convert:hover {\n",
              "      background-color: #E2EBFA;\n",
              "      box-shadow: 0px 1px 2px rgba(60, 64, 67, 0.3), 0px 1px 3px 1px rgba(60, 64, 67, 0.15);\n",
              "      fill: #174EA6;\n",
              "    }\n",
              "\n",
              "    [theme=dark] .colab-df-convert {\n",
              "      background-color: #3B4455;\n",
              "      fill: #D2E3FC;\n",
              "    }\n",
              "\n",
              "    [theme=dark] .colab-df-convert:hover {\n",
              "      background-color: #434B5C;\n",
              "      box-shadow: 0px 1px 3px 1px rgba(0, 0, 0, 0.15);\n",
              "      filter: drop-shadow(0px 1px 2px rgba(0, 0, 0, 0.3));\n",
              "      fill: #FFFFFF;\n",
              "    }\n",
              "  </style>\n",
              "\n",
              "      <script>\n",
              "        const buttonEl =\n",
              "          document.querySelector('#df-13a07749-fc87-4064-bc6b-6b5eeb873748 button.colab-df-convert');\n",
              "        buttonEl.style.display =\n",
              "          google.colab.kernel.accessAllowed ? 'block' : 'none';\n",
              "\n",
              "        async function convertToInteractive(key) {\n",
              "          const element = document.querySelector('#df-13a07749-fc87-4064-bc6b-6b5eeb873748');\n",
              "          const dataTable =\n",
              "            await google.colab.kernel.invokeFunction('convertToInteractive',\n",
              "                                                     [key], {});\n",
              "          if (!dataTable) return;\n",
              "\n",
              "          const docLinkHtml = 'Like what you see? Visit the ' +\n",
              "            '<a target=\"_blank\" href=https://colab.research.google.com/notebooks/data_table.ipynb>data table notebook</a>'\n",
              "            + ' to learn more about interactive tables.';\n",
              "          element.innerHTML = '';\n",
              "          dataTable['output_type'] = 'display_data';\n",
              "          await google.colab.output.renderOutput(dataTable, element);\n",
              "          const docLink = document.createElement('div');\n",
              "          docLink.innerHTML = docLinkHtml;\n",
              "          element.appendChild(docLink);\n",
              "        }\n",
              "      </script>\n",
              "    </div>\n",
              "  </div>\n",
              "  "
            ]
          },
          "metadata": {},
          "execution_count": 26
        }
      ]
    },
    {
      "cell_type": "code",
      "source": [
        "results_p['rank'] = results_p['着順'].map(lambda x: x if x<4 else 4)\n",
        "results_p.drop(['着順'],axis=1,inplace=True)"
      ],
      "metadata": {
        "id": "2f6PBsGhcgs9"
      },
      "execution_count": null,
      "outputs": []
    },
    {
      "cell_type": "code",
      "source": [
        "results_p['rank'].value_counts()"
      ],
      "metadata": {
        "colab": {
          "base_uri": "https://localhost:8080/"
        },
        "id": "FB7mNIusdBuy",
        "outputId": "89da841e-3158-40e1-a281-97f06dfd6974"
      },
      "execution_count": null,
      "outputs": [
        {
          "output_type": "execute_result",
          "data": {
            "text/plain": [
              "4    36759\n",
              "1     3457\n",
              "3     3453\n",
              "2     3449\n",
              "Name: rank, dtype: int64"
            ]
          },
          "metadata": {},
          "execution_count": 28
        }
      ]
    },
    {
      "cell_type": "code",
      "source": [
        "results_p['rank'] = results_p['rank'].map(lambda x: 1 if x<4 else 0)"
      ],
      "metadata": {
        "id": "Rlp8TkIQdR4x"
      },
      "execution_count": null,
      "outputs": []
    },
    {
      "cell_type": "code",
      "source": [
        "results_p['rank'].value_counts()"
      ],
      "metadata": {
        "colab": {
          "base_uri": "https://localhost:8080/"
        },
        "id": "96HMiJ-ediLK",
        "outputId": "251184a1-2c37-479d-d8a8-f2f9084e96d0"
      },
      "execution_count": null,
      "outputs": [
        {
          "output_type": "execute_result",
          "data": {
            "text/plain": [
              "0    36759\n",
              "1    10359\n",
              "Name: rank, dtype: int64"
            ]
          },
          "metadata": {},
          "execution_count": 30
        }
      ]
    },
    {
      "cell_type": "code",
      "source": [
        "results_p.drop(['馬名'],axis=1,inplace=True)\n",
        "results_d = pd.get_dummies(results_p)"
      ],
      "metadata": {
        "id": "R3U67IkIfIcM"
      },
      "execution_count": null,
      "outputs": []
    },
    {
      "cell_type": "code",
      "source": [
        "results_d"
      ],
      "metadata": {
        "colab": {
          "base_uri": "https://localhost:8080/",
          "height": 713
        },
        "id": "KpaTGfnpgj53",
        "outputId": "668bc509-72b4-4c5c-9cc2-9719b56ef5a4"
      },
      "execution_count": null,
      "outputs": [
        {
          "output_type": "execute_result",
          "data": {
            "text/plain": [
              "              枠番  馬番    斤量     単勝    人気  course_len       date  年齢   体重  体重変化  \\\n",
              "201901010101   1   1  54.0    1.4   1.0        1800 2019-07-27   2  518   -16   \n",
              "201901010101   3   3  54.0    3.5   2.0        1800 2019-07-27   2  496    -8   \n",
              "201901010101   4   4  51.0   46.6   6.0        1800 2019-07-27   2  546     6   \n",
              "201901010101   8   9  51.0   56.8   7.0        1800 2019-07-27   2  458    -8   \n",
              "201901010101   5   5  54.0  140.3   9.0        1800 2019-07-27   2  436     0   \n",
              "...           ..  ..   ...    ...   ...         ...        ...  ..  ...   ...   \n",
              "201910021212   6  11  56.0  120.3  15.0        2600 2019-09-01   6  458     8   \n",
              "201910021212   1   1  54.0    7.5   4.0        2600 2019-09-01   5  460     2   \n",
              "201910021212   2   3  54.0   99.2  12.0        2600 2019-09-01   4  478    14   \n",
              "201910021212   6  12  52.0   17.5   8.0        2600 2019-09-01   3  468     2   \n",
              "201910021212   2   4  55.0  110.3  14.0        2600 2019-09-01   4  450     8   \n",
              "\n",
              "              ...  race_type_ダート  race_type_芝  race_type_障害  ground_state_不良  \\\n",
              "201901010101  ...              0            1             0                0   \n",
              "201901010101  ...              0            1             0                0   \n",
              "201901010101  ...              0            1             0                0   \n",
              "201901010101  ...              0            1             0                0   \n",
              "201901010101  ...              0            1             0                0   \n",
              "...           ...            ...          ...           ...              ...   \n",
              "201910021212  ...              0            1             0                0   \n",
              "201910021212  ...              0            1             0                0   \n",
              "201910021212  ...              0            1             0                0   \n",
              "201910021212  ...              0            1             0                0   \n",
              "201910021212  ...              0            1             0                0   \n",
              "\n",
              "              ground_state_稍重  ground_state_良  ground_state_重  性_セ  性_牝  性_牡  \n",
              "201901010101                0               1               0    0    0    1  \n",
              "201901010101                0               1               0    0    0    1  \n",
              "201901010101                0               1               0    0    0    1  \n",
              "201901010101                0               1               0    0    0    1  \n",
              "201901010101                0               1               0    0    0    1  \n",
              "...                       ...             ...             ...  ...  ...  ...  \n",
              "201910021212                0               0               1    1    0    0  \n",
              "201910021212                0               0               1    0    0    1  \n",
              "201910021212                0               0               1    0    0    1  \n",
              "201910021212                0               0               1    0    1    0  \n",
              "201910021212                0               0               1    0    1    0  \n",
              "\n",
              "[47118 rows x 221 columns]"
            ],
            "text/html": [
              "\n",
              "  <div id=\"df-90e02fdc-7664-463b-8fe4-5da70b81f7ff\">\n",
              "    <div class=\"colab-df-container\">\n",
              "      <div>\n",
              "<style scoped>\n",
              "    .dataframe tbody tr th:only-of-type {\n",
              "        vertical-align: middle;\n",
              "    }\n",
              "\n",
              "    .dataframe tbody tr th {\n",
              "        vertical-align: top;\n",
              "    }\n",
              "\n",
              "    .dataframe thead th {\n",
              "        text-align: right;\n",
              "    }\n",
              "</style>\n",
              "<table border=\"1\" class=\"dataframe\">\n",
              "  <thead>\n",
              "    <tr style=\"text-align: right;\">\n",
              "      <th></th>\n",
              "      <th>枠番</th>\n",
              "      <th>馬番</th>\n",
              "      <th>斤量</th>\n",
              "      <th>単勝</th>\n",
              "      <th>人気</th>\n",
              "      <th>course_len</th>\n",
              "      <th>date</th>\n",
              "      <th>年齢</th>\n",
              "      <th>体重</th>\n",
              "      <th>体重変化</th>\n",
              "      <th>...</th>\n",
              "      <th>race_type_ダート</th>\n",
              "      <th>race_type_芝</th>\n",
              "      <th>race_type_障害</th>\n",
              "      <th>ground_state_不良</th>\n",
              "      <th>ground_state_稍重</th>\n",
              "      <th>ground_state_良</th>\n",
              "      <th>ground_state_重</th>\n",
              "      <th>性_セ</th>\n",
              "      <th>性_牝</th>\n",
              "      <th>性_牡</th>\n",
              "    </tr>\n",
              "  </thead>\n",
              "  <tbody>\n",
              "    <tr>\n",
              "      <th>201901010101</th>\n",
              "      <td>1</td>\n",
              "      <td>1</td>\n",
              "      <td>54.0</td>\n",
              "      <td>1.4</td>\n",
              "      <td>1.0</td>\n",
              "      <td>1800</td>\n",
              "      <td>2019-07-27</td>\n",
              "      <td>2</td>\n",
              "      <td>518</td>\n",
              "      <td>-16</td>\n",
              "      <td>...</td>\n",
              "      <td>0</td>\n",
              "      <td>1</td>\n",
              "      <td>0</td>\n",
              "      <td>0</td>\n",
              "      <td>0</td>\n",
              "      <td>1</td>\n",
              "      <td>0</td>\n",
              "      <td>0</td>\n",
              "      <td>0</td>\n",
              "      <td>1</td>\n",
              "    </tr>\n",
              "    <tr>\n",
              "      <th>201901010101</th>\n",
              "      <td>3</td>\n",
              "      <td>3</td>\n",
              "      <td>54.0</td>\n",
              "      <td>3.5</td>\n",
              "      <td>2.0</td>\n",
              "      <td>1800</td>\n",
              "      <td>2019-07-27</td>\n",
              "      <td>2</td>\n",
              "      <td>496</td>\n",
              "      <td>-8</td>\n",
              "      <td>...</td>\n",
              "      <td>0</td>\n",
              "      <td>1</td>\n",
              "      <td>0</td>\n",
              "      <td>0</td>\n",
              "      <td>0</td>\n",
              "      <td>1</td>\n",
              "      <td>0</td>\n",
              "      <td>0</td>\n",
              "      <td>0</td>\n",
              "      <td>1</td>\n",
              "    </tr>\n",
              "    <tr>\n",
              "      <th>201901010101</th>\n",
              "      <td>4</td>\n",
              "      <td>4</td>\n",
              "      <td>51.0</td>\n",
              "      <td>46.6</td>\n",
              "      <td>6.0</td>\n",
              "      <td>1800</td>\n",
              "      <td>2019-07-27</td>\n",
              "      <td>2</td>\n",
              "      <td>546</td>\n",
              "      <td>6</td>\n",
              "      <td>...</td>\n",
              "      <td>0</td>\n",
              "      <td>1</td>\n",
              "      <td>0</td>\n",
              "      <td>0</td>\n",
              "      <td>0</td>\n",
              "      <td>1</td>\n",
              "      <td>0</td>\n",
              "      <td>0</td>\n",
              "      <td>0</td>\n",
              "      <td>1</td>\n",
              "    </tr>\n",
              "    <tr>\n",
              "      <th>201901010101</th>\n",
              "      <td>8</td>\n",
              "      <td>9</td>\n",
              "      <td>51.0</td>\n",
              "      <td>56.8</td>\n",
              "      <td>7.0</td>\n",
              "      <td>1800</td>\n",
              "      <td>2019-07-27</td>\n",
              "      <td>2</td>\n",
              "      <td>458</td>\n",
              "      <td>-8</td>\n",
              "      <td>...</td>\n",
              "      <td>0</td>\n",
              "      <td>1</td>\n",
              "      <td>0</td>\n",
              "      <td>0</td>\n",
              "      <td>0</td>\n",
              "      <td>1</td>\n",
              "      <td>0</td>\n",
              "      <td>0</td>\n",
              "      <td>0</td>\n",
              "      <td>1</td>\n",
              "    </tr>\n",
              "    <tr>\n",
              "      <th>201901010101</th>\n",
              "      <td>5</td>\n",
              "      <td>5</td>\n",
              "      <td>54.0</td>\n",
              "      <td>140.3</td>\n",
              "      <td>9.0</td>\n",
              "      <td>1800</td>\n",
              "      <td>2019-07-27</td>\n",
              "      <td>2</td>\n",
              "      <td>436</td>\n",
              "      <td>0</td>\n",
              "      <td>...</td>\n",
              "      <td>0</td>\n",
              "      <td>1</td>\n",
              "      <td>0</td>\n",
              "      <td>0</td>\n",
              "      <td>0</td>\n",
              "      <td>1</td>\n",
              "      <td>0</td>\n",
              "      <td>0</td>\n",
              "      <td>0</td>\n",
              "      <td>1</td>\n",
              "    </tr>\n",
              "    <tr>\n",
              "      <th>...</th>\n",
              "      <td>...</td>\n",
              "      <td>...</td>\n",
              "      <td>...</td>\n",
              "      <td>...</td>\n",
              "      <td>...</td>\n",
              "      <td>...</td>\n",
              "      <td>...</td>\n",
              "      <td>...</td>\n",
              "      <td>...</td>\n",
              "      <td>...</td>\n",
              "      <td>...</td>\n",
              "      <td>...</td>\n",
              "      <td>...</td>\n",
              "      <td>...</td>\n",
              "      <td>...</td>\n",
              "      <td>...</td>\n",
              "      <td>...</td>\n",
              "      <td>...</td>\n",
              "      <td>...</td>\n",
              "      <td>...</td>\n",
              "      <td>...</td>\n",
              "    </tr>\n",
              "    <tr>\n",
              "      <th>201910021212</th>\n",
              "      <td>6</td>\n",
              "      <td>11</td>\n",
              "      <td>56.0</td>\n",
              "      <td>120.3</td>\n",
              "      <td>15.0</td>\n",
              "      <td>2600</td>\n",
              "      <td>2019-09-01</td>\n",
              "      <td>6</td>\n",
              "      <td>458</td>\n",
              "      <td>8</td>\n",
              "      <td>...</td>\n",
              "      <td>0</td>\n",
              "      <td>1</td>\n",
              "      <td>0</td>\n",
              "      <td>0</td>\n",
              "      <td>0</td>\n",
              "      <td>0</td>\n",
              "      <td>1</td>\n",
              "      <td>1</td>\n",
              "      <td>0</td>\n",
              "      <td>0</td>\n",
              "    </tr>\n",
              "    <tr>\n",
              "      <th>201910021212</th>\n",
              "      <td>1</td>\n",
              "      <td>1</td>\n",
              "      <td>54.0</td>\n",
              "      <td>7.5</td>\n",
              "      <td>4.0</td>\n",
              "      <td>2600</td>\n",
              "      <td>2019-09-01</td>\n",
              "      <td>5</td>\n",
              "      <td>460</td>\n",
              "      <td>2</td>\n",
              "      <td>...</td>\n",
              "      <td>0</td>\n",
              "      <td>1</td>\n",
              "      <td>0</td>\n",
              "      <td>0</td>\n",
              "      <td>0</td>\n",
              "      <td>0</td>\n",
              "      <td>1</td>\n",
              "      <td>0</td>\n",
              "      <td>0</td>\n",
              "      <td>1</td>\n",
              "    </tr>\n",
              "    <tr>\n",
              "      <th>201910021212</th>\n",
              "      <td>2</td>\n",
              "      <td>3</td>\n",
              "      <td>54.0</td>\n",
              "      <td>99.2</td>\n",
              "      <td>12.0</td>\n",
              "      <td>2600</td>\n",
              "      <td>2019-09-01</td>\n",
              "      <td>4</td>\n",
              "      <td>478</td>\n",
              "      <td>14</td>\n",
              "      <td>...</td>\n",
              "      <td>0</td>\n",
              "      <td>1</td>\n",
              "      <td>0</td>\n",
              "      <td>0</td>\n",
              "      <td>0</td>\n",
              "      <td>0</td>\n",
              "      <td>1</td>\n",
              "      <td>0</td>\n",
              "      <td>0</td>\n",
              "      <td>1</td>\n",
              "    </tr>\n",
              "    <tr>\n",
              "      <th>201910021212</th>\n",
              "      <td>6</td>\n",
              "      <td>12</td>\n",
              "      <td>52.0</td>\n",
              "      <td>17.5</td>\n",
              "      <td>8.0</td>\n",
              "      <td>2600</td>\n",
              "      <td>2019-09-01</td>\n",
              "      <td>3</td>\n",
              "      <td>468</td>\n",
              "      <td>2</td>\n",
              "      <td>...</td>\n",
              "      <td>0</td>\n",
              "      <td>1</td>\n",
              "      <td>0</td>\n",
              "      <td>0</td>\n",
              "      <td>0</td>\n",
              "      <td>0</td>\n",
              "      <td>1</td>\n",
              "      <td>0</td>\n",
              "      <td>1</td>\n",
              "      <td>0</td>\n",
              "    </tr>\n",
              "    <tr>\n",
              "      <th>201910021212</th>\n",
              "      <td>2</td>\n",
              "      <td>4</td>\n",
              "      <td>55.0</td>\n",
              "      <td>110.3</td>\n",
              "      <td>14.0</td>\n",
              "      <td>2600</td>\n",
              "      <td>2019-09-01</td>\n",
              "      <td>4</td>\n",
              "      <td>450</td>\n",
              "      <td>8</td>\n",
              "      <td>...</td>\n",
              "      <td>0</td>\n",
              "      <td>1</td>\n",
              "      <td>0</td>\n",
              "      <td>0</td>\n",
              "      <td>0</td>\n",
              "      <td>0</td>\n",
              "      <td>1</td>\n",
              "      <td>0</td>\n",
              "      <td>1</td>\n",
              "      <td>0</td>\n",
              "    </tr>\n",
              "  </tbody>\n",
              "</table>\n",
              "<p>47118 rows × 221 columns</p>\n",
              "</div>\n",
              "      <button class=\"colab-df-convert\" onclick=\"convertToInteractive('df-90e02fdc-7664-463b-8fe4-5da70b81f7ff')\"\n",
              "              title=\"Convert this dataframe to an interactive table.\"\n",
              "              style=\"display:none;\">\n",
              "        \n",
              "  <svg xmlns=\"http://www.w3.org/2000/svg\" height=\"24px\"viewBox=\"0 0 24 24\"\n",
              "       width=\"24px\">\n",
              "    <path d=\"M0 0h24v24H0V0z\" fill=\"none\"/>\n",
              "    <path d=\"M18.56 5.44l.94 2.06.94-2.06 2.06-.94-2.06-.94-.94-2.06-.94 2.06-2.06.94zm-11 1L8.5 8.5l.94-2.06 2.06-.94-2.06-.94L8.5 2.5l-.94 2.06-2.06.94zm10 10l.94 2.06.94-2.06 2.06-.94-2.06-.94-.94-2.06-.94 2.06-2.06.94z\"/><path d=\"M17.41 7.96l-1.37-1.37c-.4-.4-.92-.59-1.43-.59-.52 0-1.04.2-1.43.59L10.3 9.45l-7.72 7.72c-.78.78-.78 2.05 0 2.83L4 21.41c.39.39.9.59 1.41.59.51 0 1.02-.2 1.41-.59l7.78-7.78 2.81-2.81c.8-.78.8-2.07 0-2.86zM5.41 20L4 18.59l7.72-7.72 1.47 1.35L5.41 20z\"/>\n",
              "  </svg>\n",
              "      </button>\n",
              "      \n",
              "  <style>\n",
              "    .colab-df-container {\n",
              "      display:flex;\n",
              "      flex-wrap:wrap;\n",
              "      gap: 12px;\n",
              "    }\n",
              "\n",
              "    .colab-df-convert {\n",
              "      background-color: #E8F0FE;\n",
              "      border: none;\n",
              "      border-radius: 50%;\n",
              "      cursor: pointer;\n",
              "      display: none;\n",
              "      fill: #1967D2;\n",
              "      height: 32px;\n",
              "      padding: 0 0 0 0;\n",
              "      width: 32px;\n",
              "    }\n",
              "\n",
              "    .colab-df-convert:hover {\n",
              "      background-color: #E2EBFA;\n",
              "      box-shadow: 0px 1px 2px rgba(60, 64, 67, 0.3), 0px 1px 3px 1px rgba(60, 64, 67, 0.15);\n",
              "      fill: #174EA6;\n",
              "    }\n",
              "\n",
              "    [theme=dark] .colab-df-convert {\n",
              "      background-color: #3B4455;\n",
              "      fill: #D2E3FC;\n",
              "    }\n",
              "\n",
              "    [theme=dark] .colab-df-convert:hover {\n",
              "      background-color: #434B5C;\n",
              "      box-shadow: 0px 1px 3px 1px rgba(0, 0, 0, 0.15);\n",
              "      filter: drop-shadow(0px 1px 2px rgba(0, 0, 0, 0.3));\n",
              "      fill: #FFFFFF;\n",
              "    }\n",
              "  </style>\n",
              "\n",
              "      <script>\n",
              "        const buttonEl =\n",
              "          document.querySelector('#df-90e02fdc-7664-463b-8fe4-5da70b81f7ff button.colab-df-convert');\n",
              "        buttonEl.style.display =\n",
              "          google.colab.kernel.accessAllowed ? 'block' : 'none';\n",
              "\n",
              "        async function convertToInteractive(key) {\n",
              "          const element = document.querySelector('#df-90e02fdc-7664-463b-8fe4-5da70b81f7ff');\n",
              "          const dataTable =\n",
              "            await google.colab.kernel.invokeFunction('convertToInteractive',\n",
              "                                                     [key], {});\n",
              "          if (!dataTable) return;\n",
              "\n",
              "          const docLinkHtml = 'Like what you see? Visit the ' +\n",
              "            '<a target=\"_blank\" href=https://colab.research.google.com/notebooks/data_table.ipynb>data table notebook</a>'\n",
              "            + ' to learn more about interactive tables.';\n",
              "          element.innerHTML = '';\n",
              "          dataTable['output_type'] = 'display_data';\n",
              "          await google.colab.output.renderOutput(dataTable, element);\n",
              "          const docLink = document.createElement('div');\n",
              "          docLink.innerHTML = docLinkHtml;\n",
              "          element.appendChild(docLink);\n",
              "        }\n",
              "      </script>\n",
              "    </div>\n",
              "  </div>\n",
              "  "
            ]
          },
          "metadata": {},
          "execution_count": 32
        }
      ]
    },
    {
      "cell_type": "code",
      "source": [
        "train, test = split_data(results_d)"
      ],
      "metadata": {
        "id": "E3Aifj3geFqJ"
      },
      "execution_count": null,
      "outputs": []
    },
    {
      "cell_type": "code",
      "source": [
        "X_train = train.drop(['rank','date'],axis=1)\n",
        "y_train = train['rank']\n",
        "X_test = test.drop(['rank','date'],axis=1)\n",
        "y_test = test['rank']"
      ],
      "metadata": {
        "id": "3AswtYySeMi2"
      },
      "execution_count": null,
      "outputs": []
    },
    {
      "cell_type": "code",
      "source": [
        "from sklearn.ensemble import RandomForestClassifier\n",
        "\n",
        "rf = RandomForestClassifier(random_state=100)\n",
        "rf.fit(X_train,y_train)"
      ],
      "metadata": {
        "colab": {
          "base_uri": "https://localhost:8080/"
        },
        "id": "uAJ7hwJ3ecZ1",
        "outputId": "15abb5aa-7242-437f-f5ff-0e5a4b2dbb35"
      },
      "execution_count": null,
      "outputs": [
        {
          "output_type": "execute_result",
          "data": {
            "text/plain": [
              "RandomForestClassifier(random_state=100)"
            ]
          },
          "metadata": {},
          "execution_count": 35
        }
      ]
    },
    {
      "cell_type": "code",
      "source": [
        "y_pred = rf.predict_proba(X_test)[:,1]"
      ],
      "metadata": {
        "id": "y3sUA1wjikjK"
      },
      "execution_count": null,
      "outputs": []
    },
    {
      "cell_type": "code",
      "source": [
        "y_pred"
      ],
      "metadata": {
        "colab": {
          "base_uri": "https://localhost:8080/"
        },
        "id": "RTUr8XRpiw8p",
        "outputId": "5f3ddc9a-8118-4e39-bbf6-b21df0ee73f1"
      },
      "execution_count": null,
      "outputs": [
        {
          "output_type": "execute_result",
          "data": {
            "text/plain": [
              "array([0.44, 0.64, 0.67, ..., 0.02, 0.43, 0.01])"
            ]
          },
          "metadata": {},
          "execution_count": 37
        }
      ]
    },
    {
      "cell_type": "code",
      "source": [
        "pip install jupyterthemes"
      ],
      "metadata": {
        "id": "Hkgs7gYrjie8",
        "colab": {
          "base_uri": "https://localhost:8080/"
        },
        "outputId": "dc564978-195c-4b08-957f-0cc043f52af9"
      },
      "execution_count": null,
      "outputs": [
        {
          "output_type": "stream",
          "name": "stdout",
          "text": [
            "Looking in indexes: https://pypi.org/simple, https://us-python.pkg.dev/colab-wheels/public/simple/\n",
            "Collecting jupyterthemes\n",
            "  Downloading jupyterthemes-0.20.0-py2.py3-none-any.whl (7.0 MB)\n",
            "\u001b[2K     \u001b[90m━━━━━━━━━━━━━━━━━━━━━━━━━━━━━━━━━━━━━━━━\u001b[0m \u001b[32m7.0/7.0 MB\u001b[0m \u001b[31m105.7 MB/s\u001b[0m eta \u001b[36m0:00:00\u001b[0m\n",
            "\u001b[?25hCollecting lesscpy>=0.11.2\n",
            "  Downloading lesscpy-0.15.1-py2.py3-none-any.whl (46 kB)\n",
            "\u001b[2K     \u001b[90m━━━━━━━━━━━━━━━━━━━━━━━━━━━━━━━━━━━━━━━━\u001b[0m \u001b[32m46.7/46.7 KB\u001b[0m \u001b[31m6.3 MB/s\u001b[0m eta \u001b[36m0:00:00\u001b[0m\n",
            "\u001b[?25hRequirement already satisfied: jupyter-core in /usr/local/lib/python3.8/dist-packages (from jupyterthemes) (5.2.0)\n",
            "Requirement already satisfied: ipython>=5.4.1 in /usr/local/lib/python3.8/dist-packages (from jupyterthemes) (7.9.0)\n",
            "Requirement already satisfied: notebook>=5.6.0 in /usr/local/lib/python3.8/dist-packages (from jupyterthemes) (6.3.0)\n",
            "Requirement already satisfied: matplotlib>=1.4.3 in /usr/local/lib/python3.8/dist-packages (from jupyterthemes) (3.5.3)\n",
            "Collecting jedi>=0.10\n",
            "  Downloading jedi-0.18.2-py2.py3-none-any.whl (1.6 MB)\n",
            "\u001b[2K     \u001b[90m━━━━━━━━━━━━━━━━━━━━━━━━━━━━━━━━━━━━━━━━\u001b[0m \u001b[32m1.6/1.6 MB\u001b[0m \u001b[31m91.2 MB/s\u001b[0m eta \u001b[36m0:00:00\u001b[0m\n",
            "\u001b[?25hRequirement already satisfied: traitlets>=4.2 in /usr/local/lib/python3.8/dist-packages (from ipython>=5.4.1->jupyterthemes) (5.7.1)\n",
            "Requirement already satisfied: pickleshare in /usr/local/lib/python3.8/dist-packages (from ipython>=5.4.1->jupyterthemes) (0.7.5)\n",
            "Requirement already satisfied: pygments in /usr/local/lib/python3.8/dist-packages (from ipython>=5.4.1->jupyterthemes) (2.6.1)\n",
            "Requirement already satisfied: decorator in /usr/local/lib/python3.8/dist-packages (from ipython>=5.4.1->jupyterthemes) (4.4.2)\n",
            "Requirement already satisfied: prompt-toolkit<2.1.0,>=2.0.0 in /usr/local/lib/python3.8/dist-packages (from ipython>=5.4.1->jupyterthemes) (2.0.10)\n",
            "Requirement already satisfied: backcall in /usr/local/lib/python3.8/dist-packages (from ipython>=5.4.1->jupyterthemes) (0.2.0)\n",
            "Requirement already satisfied: pexpect in /usr/local/lib/python3.8/dist-packages (from ipython>=5.4.1->jupyterthemes) (4.8.0)\n",
            "Requirement already satisfied: setuptools>=18.5 in /usr/local/lib/python3.8/dist-packages (from ipython>=5.4.1->jupyterthemes) (57.4.0)\n",
            "Collecting ply\n",
            "  Downloading ply-3.11-py2.py3-none-any.whl (49 kB)\n",
            "\u001b[2K     \u001b[90m━━━━━━━━━━━━━━━━━━━━━━━━━━━━━━━━━━━━━━━━\u001b[0m \u001b[32m49.6/49.6 KB\u001b[0m \u001b[31m7.1 MB/s\u001b[0m eta \u001b[36m0:00:00\u001b[0m\n",
            "\u001b[?25hRequirement already satisfied: numpy>=1.17 in /usr/local/lib/python3.8/dist-packages (from matplotlib>=1.4.3->jupyterthemes) (1.22.4)\n",
            "Requirement already satisfied: pillow>=6.2.0 in /usr/local/lib/python3.8/dist-packages (from matplotlib>=1.4.3->jupyterthemes) (8.4.0)\n",
            "Requirement already satisfied: cycler>=0.10 in /usr/local/lib/python3.8/dist-packages (from matplotlib>=1.4.3->jupyterthemes) (0.11.0)\n",
            "Requirement already satisfied: packaging>=20.0 in /usr/local/lib/python3.8/dist-packages (from matplotlib>=1.4.3->jupyterthemes) (23.0)\n",
            "Requirement already satisfied: python-dateutil>=2.7 in /usr/local/lib/python3.8/dist-packages (from matplotlib>=1.4.3->jupyterthemes) (2.8.2)\n",
            "Requirement already satisfied: pyparsing>=2.2.1 in /usr/local/lib/python3.8/dist-packages (from matplotlib>=1.4.3->jupyterthemes) (3.0.9)\n",
            "Requirement already satisfied: fonttools>=4.22.0 in /usr/local/lib/python3.8/dist-packages (from matplotlib>=1.4.3->jupyterthemes) (4.38.0)\n",
            "Requirement already satisfied: kiwisolver>=1.0.1 in /usr/local/lib/python3.8/dist-packages (from matplotlib>=1.4.3->jupyterthemes) (1.4.4)\n",
            "Requirement already satisfied: ipykernel in /usr/local/lib/python3.8/dist-packages (from notebook>=5.6.0->jupyterthemes) (5.3.4)\n",
            "Requirement already satisfied: nbformat in /usr/local/lib/python3.8/dist-packages (from notebook>=5.6.0->jupyterthemes) (5.7.3)\n",
            "Requirement already satisfied: jupyter-client>=5.3.4 in /usr/local/lib/python3.8/dist-packages (from notebook>=5.6.0->jupyterthemes) (6.1.12)\n",
            "Requirement already satisfied: prometheus-client in /usr/local/lib/python3.8/dist-packages (from notebook>=5.6.0->jupyterthemes) (0.16.0)\n",
            "Requirement already satisfied: pyzmq>=17 in /usr/local/lib/python3.8/dist-packages (from notebook>=5.6.0->jupyterthemes) (23.2.1)\n",
            "Requirement already satisfied: Send2Trash>=1.5.0 in /usr/local/lib/python3.8/dist-packages (from notebook>=5.6.0->jupyterthemes) (1.8.0)\n",
            "Requirement already satisfied: nbconvert in /usr/local/lib/python3.8/dist-packages (from notebook>=5.6.0->jupyterthemes) (6.5.4)\n",
            "Requirement already satisfied: terminado>=0.8.3 in /usr/local/lib/python3.8/dist-packages (from notebook>=5.6.0->jupyterthemes) (0.13.3)\n",
            "Requirement already satisfied: ipython-genutils in /usr/local/lib/python3.8/dist-packages (from notebook>=5.6.0->jupyterthemes) (0.2.0)\n",
            "Requirement already satisfied: argon2-cffi in /usr/local/lib/python3.8/dist-packages (from notebook>=5.6.0->jupyterthemes) (21.3.0)\n",
            "Requirement already satisfied: tornado>=6.1 in /usr/local/lib/python3.8/dist-packages (from notebook>=5.6.0->jupyterthemes) (6.2)\n",
            "Requirement already satisfied: jinja2 in /usr/local/lib/python3.8/dist-packages (from notebook>=5.6.0->jupyterthemes) (3.1.2)\n",
            "Requirement already satisfied: platformdirs>=2.5 in /usr/local/lib/python3.8/dist-packages (from jupyter-core->jupyterthemes) (3.0.0)\n",
            "Requirement already satisfied: parso<0.9.0,>=0.8.0 in /usr/local/lib/python3.8/dist-packages (from jedi>=0.10->ipython>=5.4.1->jupyterthemes) (0.8.3)\n",
            "Requirement already satisfied: six>=1.9.0 in /usr/local/lib/python3.8/dist-packages (from prompt-toolkit<2.1.0,>=2.0.0->ipython>=5.4.1->jupyterthemes) (1.15.0)\n",
            "Requirement already satisfied: wcwidth in /usr/local/lib/python3.8/dist-packages (from prompt-toolkit<2.1.0,>=2.0.0->ipython>=5.4.1->jupyterthemes) (0.2.6)\n",
            "Requirement already satisfied: ptyprocess in /usr/local/lib/python3.8/dist-packages (from terminado>=0.8.3->notebook>=5.6.0->jupyterthemes) (0.7.0)\n",
            "Requirement already satisfied: argon2-cffi-bindings in /usr/local/lib/python3.8/dist-packages (from argon2-cffi->notebook>=5.6.0->jupyterthemes) (21.2.0)\n",
            "Requirement already satisfied: MarkupSafe>=2.0 in /usr/local/lib/python3.8/dist-packages (from jinja2->notebook>=5.6.0->jupyterthemes) (2.1.2)\n",
            "Requirement already satisfied: entrypoints>=0.2.2 in /usr/local/lib/python3.8/dist-packages (from nbconvert->notebook>=5.6.0->jupyterthemes) (0.4)\n",
            "Requirement already satisfied: beautifulsoup4 in /usr/local/lib/python3.8/dist-packages (from nbconvert->notebook>=5.6.0->jupyterthemes) (4.6.3)\n",
            "Requirement already satisfied: lxml in /usr/local/lib/python3.8/dist-packages (from nbconvert->notebook>=5.6.0->jupyterthemes) (4.9.2)\n",
            "Requirement already satisfied: nbclient>=0.5.0 in /usr/local/lib/python3.8/dist-packages (from nbconvert->notebook>=5.6.0->jupyterthemes) (0.7.2)\n",
            "Requirement already satisfied: tinycss2 in /usr/local/lib/python3.8/dist-packages (from nbconvert->notebook>=5.6.0->jupyterthemes) (1.2.1)\n",
            "Requirement already satisfied: bleach in /usr/local/lib/python3.8/dist-packages (from nbconvert->notebook>=5.6.0->jupyterthemes) (6.0.0)\n",
            "Requirement already satisfied: pandocfilters>=1.4.1 in /usr/local/lib/python3.8/dist-packages (from nbconvert->notebook>=5.6.0->jupyterthemes) (1.5.0)\n",
            "Requirement already satisfied: jupyterlab-pygments in /usr/local/lib/python3.8/dist-packages (from nbconvert->notebook>=5.6.0->jupyterthemes) (0.2.2)\n",
            "Requirement already satisfied: defusedxml in /usr/local/lib/python3.8/dist-packages (from nbconvert->notebook>=5.6.0->jupyterthemes) (0.7.1)\n",
            "Requirement already satisfied: mistune<2,>=0.8.1 in /usr/local/lib/python3.8/dist-packages (from nbconvert->notebook>=5.6.0->jupyterthemes) (0.8.4)\n",
            "Requirement already satisfied: fastjsonschema in /usr/local/lib/python3.8/dist-packages (from nbformat->notebook>=5.6.0->jupyterthemes) (2.16.3)\n",
            "Requirement already satisfied: jsonschema>=2.6 in /usr/local/lib/python3.8/dist-packages (from nbformat->notebook>=5.6.0->jupyterthemes) (4.3.3)\n",
            "Requirement already satisfied: attrs>=17.4.0 in /usr/local/lib/python3.8/dist-packages (from jsonschema>=2.6->nbformat->notebook>=5.6.0->jupyterthemes) (22.2.0)\n",
            "Requirement already satisfied: pyrsistent!=0.17.0,!=0.17.1,!=0.17.2,>=0.14.0 in /usr/local/lib/python3.8/dist-packages (from jsonschema>=2.6->nbformat->notebook>=5.6.0->jupyterthemes) (0.19.3)\n",
            "Requirement already satisfied: importlib-resources>=1.4.0 in /usr/local/lib/python3.8/dist-packages (from jsonschema>=2.6->nbformat->notebook>=5.6.0->jupyterthemes) (5.12.0)\n",
            "Requirement already satisfied: cffi>=1.0.1 in /usr/local/lib/python3.8/dist-packages (from argon2-cffi-bindings->argon2-cffi->notebook>=5.6.0->jupyterthemes) (1.15.1)\n",
            "Requirement already satisfied: webencodings in /usr/local/lib/python3.8/dist-packages (from bleach->nbconvert->notebook>=5.6.0->jupyterthemes) (0.5.1)\n",
            "Requirement already satisfied: pycparser in /usr/local/lib/python3.8/dist-packages (from cffi>=1.0.1->argon2-cffi-bindings->argon2-cffi->notebook>=5.6.0->jupyterthemes) (2.21)\n",
            "Requirement already satisfied: zipp>=3.1.0 in /usr/local/lib/python3.8/dist-packages (from importlib-resources>=1.4.0->jsonschema>=2.6->nbformat->notebook>=5.6.0->jupyterthemes) (3.15.0)\n",
            "Installing collected packages: ply, lesscpy, jedi, jupyterthemes\n",
            "Successfully installed jedi-0.18.2 jupyterthemes-0.20.0 lesscpy-0.15.1 ply-3.11\n"
          ]
        }
      ]
    },
    {
      "cell_type": "code",
      "source": [
        "from sklearn.metrics import roc_curve, roc_auc_score\n",
        "import matplotlib.pyplot as plt\n",
        "from jupyterthemes import jtplot\n",
        "jtplot.style(theme='monokai')\n",
        "\n",
        "fpr,tpr,thresholds = roc_curve(y_test,y_pred)\n",
        "plt.plot(fpr,tpr,marker='o')\n",
        "plt.xlabel('False positive rate')\n",
        "plt.ylabel('True positive rate')\n",
        "plt.grid()\n",
        "plt.show()"
      ],
      "metadata": {
        "colab": {
          "base_uri": "https://localhost:8080/",
          "height": 372
        },
        "id": "vXZFcSXAi3D9",
        "outputId": "d21babc0-c8e9-4e75-c0c4-f863e070e013"
      },
      "execution_count": null,
      "outputs": [
        {
          "output_type": "display_data",
          "data": {
            "text/plain": [
              "<Figure size 460.8x403.2 with 1 Axes>"
            ],
            "image/png": "[encoded data removed]"
          },
          "metadata": {}
        }
      ]
    },
    {
      "cell_type": "code",
      "source": [
        "roc_auc_score(y_test,y_pred)"
      ],
      "metadata": {
        "colab": {
          "base_uri": "https://localhost:8080/"
        },
        "id": "l13nWtKEk5PI",
        "outputId": "f10ce559-24ee-44ae-e792-7ee160ba6855"
      },
      "execution_count": null,
      "outputs": [
        {
          "output_type": "execute_result",
          "data": {
            "text/plain": [
              "0.7967149439818251"
            ]
          },
          "metadata": {},
          "execution_count": 40
        }
      ]
    },
    {
      "cell_type": "code",
      "source": [
        "y_pred_train = rf.predict_proba(X_train)[:,1]\n",
        "roc_auc_score(y_train,y_pred_train)"
      ],
      "metadata": {
        "colab": {
          "base_uri": "https://localhost:8080/"
        },
        "id": "I9TyvwcFk92C",
        "outputId": "a53a8ff6-77e0-4963-968f-eafa6772977a"
      },
      "execution_count": null,
      "outputs": [
        {
          "output_type": "execute_result",
          "data": {
            "text/plain": [
              "1.0"
            ]
          },
          "metadata": {},
          "execution_count": 41
        }
      ]
    },
    {
      "cell_type": "code",
      "source": [
        "fpr,tpr,thresholds = roc_curve(y_train,y_pred_train)\n",
        "plt.plot(fpr,tpr,marker='o')\n",
        "plt.xlabel('False positive rate')\n",
        "plt.ylabel('True positive rate')\n",
        "plt.grid()\n",
        "plt.show()"
      ],
      "metadata": {
        "colab": {
          "base_uri": "https://localhost:8080/",
          "height": 372
        },
        "id": "Xah9pJUGlHe0",
        "outputId": "0416f9eb-7952-43f1-b1fb-06d12472836d"
      },
      "execution_count": null,
      "outputs": [
        {
          "output_type": "display_data",
          "data": {
            "text/plain": [
              "<Figure size 460.8x403.2 with 1 Axes>"
            ],
            "image/png": "[encoded data removed]"
          },
          "metadata": {}
        }
      ]
    },
    {
      "cell_type": "code",
      "source": [
        "params = {\n",
        "    'min_samples_split': 500,\n",
        "    'max_depth': None,\n",
        "    'n_estimators': 60,\n",
        "    'criterion': 'entropy',\n",
        "    'class_weight': 'balanced',\n",
        "    'random_state': 100\n",
        "}\n",
        "\n",
        "rf = RandomForestClassifier(**params)\n",
        "rf.fit(X_train,y_train)\n",
        "y_pred_train = rf.predict_proba(X_train)[:,1]\n",
        "y_pred = rf.predict_proba(X_test)[:,1]\n",
        "print(roc_auc_score(y_train,y_pred_train))\n",
        "print(roc_auc_score(y_test,y_pred))"
      ],
      "metadata": {
        "colab": {
          "base_uri": "https://localhost:8080/"
        },
        "id": "9fAsdj82q-Ub",
        "outputId": "413dafad-2b5c-446f-bde2-8966c0052313"
      },
      "execution_count": null,
      "outputs": [
        {
          "output_type": "stream",
          "name": "stdout",
          "text": [
            "0.838306524227657\n",
            "0.8060379740962669\n"
          ]
        }
      ]
    },
    {
      "cell_type": "code",
      "source": [
        "importances = pd.DataFrame({'features': X_train.columns, 'importance': rf.feature_importances_})"
      ],
      "metadata": {
        "id": "wbRmEPzQrvEa"
      },
      "execution_count": null,
      "outputs": []
    },
    {
      "cell_type": "code",
      "source": [
        "importances.sort_values('importance', ascending=False)[:20]"
      ],
      "metadata": {
        "colab": {
          "base_uri": "https://localhost:8080/",
          "height": 676
        },
        "id": "77tinY0VL_QC",
        "outputId": "f333c0ee-5d2a-4f9c-dedf-dbc6be714822"
      },
      "execution_count": null,
      "outputs": [
        {
          "output_type": "execute_result",
          "data": {
            "text/plain": [
              "       features  importance\n",
              "3            単勝    0.413439\n",
              "4            人気    0.360329\n",
              "7            体重    0.016546\n",
              "8          体重変化    0.010153\n",
              "23      騎手_ルメール    0.010110\n",
              "6            年齢    0.008884\n",
              "5    course_len    0.007722\n",
              "97      騎手_川田将雅    0.007667\n",
              "1            馬番    0.007571\n",
              "2            斤量    0.007163\n",
              "160     騎手_福永祐一    0.004910\n",
              "0            枠番    0.004131\n",
              "102     騎手_戸崎圭太    0.003866\n",
              "202     騎手_Ｍ．デム    0.003576\n",
              "132       騎手_武豊    0.002675\n",
              "83      騎手_山田敬士    0.002217\n",
              "218         性_牡    0.002156\n",
              "136     騎手_江田照男    0.001956\n",
              "147     騎手_田辺裕信    0.001906\n",
              "185      騎手_酒井学    0.001784"
            ],
            "text/html": [
              "\n",
              "  <div id=\"df-4274e510-8d47-4671-a65b-26d4995f89da\">\n",
              "    <div class=\"colab-df-container\">\n",
              "      <div>\n",
              "<style scoped>\n",
              "    .dataframe tbody tr th:only-of-type {\n",
              "        vertical-align: middle;\n",
              "    }\n",
              "\n",
              "    .dataframe tbody tr th {\n",
              "        vertical-align: top;\n",
              "    }\n",
              "\n",
              "    .dataframe thead th {\n",
              "        text-align: right;\n",
              "    }\n",
              "</style>\n",
              "<table border=\"1\" class=\"dataframe\">\n",
              "  <thead>\n",
              "    <tr style=\"text-align: right;\">\n",
              "      <th></th>\n",
              "      <th>features</th>\n",
              "      <th>importance</th>\n",
              "    </tr>\n",
              "  </thead>\n",
              "  <tbody>\n",
              "    <tr>\n",
              "      <th>3</th>\n",
              "      <td>単勝</td>\n",
              "      <td>0.413439</td>\n",
              "    </tr>\n",
              "    <tr>\n",
              "      <th>4</th>\n",
              "      <td>人気</td>\n",
              "      <td>0.360329</td>\n",
              "    </tr>\n",
              "    <tr>\n",
              "      <th>7</th>\n",
              "      <td>体重</td>\n",
              "      <td>0.016546</td>\n",
              "    </tr>\n",
              "    <tr>\n",
              "      <th>8</th>\n",
              "      <td>体重変化</td>\n",
              "      <td>0.010153</td>\n",
              "    </tr>\n",
              "    <tr>\n",
              "      <th>23</th>\n",
              "      <td>騎手_ルメール</td>\n",
              "      <td>0.010110</td>\n",
              "    </tr>\n",
              "    <tr>\n",
              "      <th>6</th>\n",
              "      <td>年齢</td>\n",
              "      <td>0.008884</td>\n",
              "    </tr>\n",
              "    <tr>\n",
              "      <th>5</th>\n",
              "      <td>course_len</td>\n",
              "      <td>0.007722</td>\n",
              "    </tr>\n",
              "    <tr>\n",
              "      <th>97</th>\n",
              "      <td>騎手_川田将雅</td>\n",
              "      <td>0.007667</td>\n",
              "    </tr>\n",
              "    <tr>\n",
              "      <th>1</th>\n",
              "      <td>馬番</td>\n",
              "      <td>0.007571</td>\n",
              "    </tr>\n",
              "    <tr>\n",
              "      <th>2</th>\n",
              "      <td>斤量</td>\n",
              "      <td>0.007163</td>\n",
              "    </tr>\n",
              "    <tr>\n",
              "      <th>160</th>\n",
              "      <td>騎手_福永祐一</td>\n",
              "      <td>0.004910</td>\n",
              "    </tr>\n",
              "    <tr>\n",
              "      <th>0</th>\n",
              "      <td>枠番</td>\n",
              "      <td>0.004131</td>\n",
              "    </tr>\n",
              "    <tr>\n",
              "      <th>102</th>\n",
              "      <td>騎手_戸崎圭太</td>\n",
              "      <td>0.003866</td>\n",
              "    </tr>\n",
              "    <tr>\n",
              "      <th>202</th>\n",
              "      <td>騎手_Ｍ．デム</td>\n",
              "      <td>0.003576</td>\n",
              "    </tr>\n",
              "    <tr>\n",
              "      <th>132</th>\n",
              "      <td>騎手_武豊</td>\n",
              "      <td>0.002675</td>\n",
              "    </tr>\n",
              "    <tr>\n",
              "      <th>83</th>\n",
              "      <td>騎手_山田敬士</td>\n",
              "      <td>0.002217</td>\n",
              "    </tr>\n",
              "    <tr>\n",
              "      <th>218</th>\n",
              "      <td>性_牡</td>\n",
              "      <td>0.002156</td>\n",
              "    </tr>\n",
              "    <tr>\n",
              "      <th>136</th>\n",
              "      <td>騎手_江田照男</td>\n",
              "      <td>0.001956</td>\n",
              "    </tr>\n",
              "    <tr>\n",
              "      <th>147</th>\n",
              "      <td>騎手_田辺裕信</td>\n",
              "      <td>0.001906</td>\n",
              "    </tr>\n",
              "    <tr>\n",
              "      <th>185</th>\n",
              "      <td>騎手_酒井学</td>\n",
              "      <td>0.001784</td>\n",
              "    </tr>\n",
              "  </tbody>\n",
              "</table>\n",
              "</div>\n",
              "      <button class=\"colab-df-convert\" onclick=\"convertToInteractive('df-4274e510-8d47-4671-a65b-26d4995f89da')\"\n",
              "              title=\"Convert this dataframe to an interactive table.\"\n",
              "              style=\"display:none;\">\n",
              "        \n",
              "  <svg xmlns=\"http://www.w3.org/2000/svg\" height=\"24px\"viewBox=\"0 0 24 24\"\n",
              "       width=\"24px\">\n",
              "    <path d=\"M0 0h24v24H0V0z\" fill=\"none\"/>\n",
              "    <path d=\"M18.56 5.44l.94 2.06.94-2.06 2.06-.94-2.06-.94-.94-2.06-.94 2.06-2.06.94zm-11 1L8.5 8.5l.94-2.06 2.06-.94-2.06-.94L8.5 2.5l-.94 2.06-2.06.94zm10 10l.94 2.06.94-2.06 2.06-.94-2.06-.94-.94-2.06-.94 2.06-2.06.94z\"/><path d=\"M17.41 7.96l-1.37-1.37c-.4-.4-.92-.59-1.43-.59-.52 0-1.04.2-1.43.59L10.3 9.45l-7.72 7.72c-.78.78-.78 2.05 0 2.83L4 21.41c.39.39.9.59 1.41.59.51 0 1.02-.2 1.41-.59l7.78-7.78 2.81-2.81c.8-.78.8-2.07 0-2.86zM5.41 20L4 18.59l7.72-7.72 1.47 1.35L5.41 20z\"/>\n",
              "  </svg>\n",
              "      </button>\n",
              "      \n",
              "  <style>\n",
              "    .colab-df-container {\n",
              "      display:flex;\n",
              "      flex-wrap:wrap;\n",
              "      gap: 12px;\n",
              "    }\n",
              "\n",
              "    .colab-df-convert {\n",
              "      background-color: #E8F0FE;\n",
              "      border: none;\n",
              "      border-radius: 50%;\n",
              "      cursor: pointer;\n",
              "      display: none;\n",
              "      fill: #1967D2;\n",
              "      height: 32px;\n",
              "      padding: 0 0 0 0;\n",
              "      width: 32px;\n",
              "    }\n",
              "\n",
              "    .colab-df-convert:hover {\n",
              "      background-color: #E2EBFA;\n",
              "      box-shadow: 0px 1px 2px rgba(60, 64, 67, 0.3), 0px 1px 3px 1px rgba(60, 64, 67, 0.15);\n",
              "      fill: #174EA6;\n",
              "    }\n",
              "\n",
              "    [theme=dark] .colab-df-convert {\n",
              "      background-color: #3B4455;\n",
              "      fill: #D2E3FC;\n",
              "    }\n",
              "\n",
              "    [theme=dark] .colab-df-convert:hover {\n",
              "      background-color: #434B5C;\n",
              "      box-shadow: 0px 1px 3px 1px rgba(0, 0, 0, 0.15);\n",
              "      filter: drop-shadow(0px 1px 2px rgba(0, 0, 0, 0.3));\n",
              "      fill: #FFFFFF;\n",
              "    }\n",
              "  </style>\n",
              "\n",
              "      <script>\n",
              "        const buttonEl =\n",
              "          document.querySelector('#df-4274e510-8d47-4671-a65b-26d4995f89da button.colab-df-convert');\n",
              "        buttonEl.style.display =\n",
              "          google.colab.kernel.accessAllowed ? 'block' : 'none';\n",
              "\n",
              "        async function convertToInteractive(key) {\n",
              "          const element = document.querySelector('#df-4274e510-8d47-4671-a65b-26d4995f89da');\n",
              "          const dataTable =\n",
              "            await google.colab.kernel.invokeFunction('convertToInteractive',\n",
              "                                                     [key], {});\n",
              "          if (!dataTable) return;\n",
              "\n",
              "          const docLinkHtml = 'Like what you see? Visit the ' +\n",
              "            '<a target=\"_blank\" href=https://colab.research.google.com/notebooks/data_table.ipynb>data table notebook</a>'\n",
              "            + ' to learn more about interactive tables.';\n",
              "          element.innerHTML = '';\n",
              "          dataTable['output_type'] = 'display_data';\n",
              "          await google.colab.output.renderOutput(dataTable, element);\n",
              "          const docLink = document.createElement('div');\n",
              "          docLink.innerHTML = docLinkHtml;\n",
              "          element.appendChild(docLink);\n",
              "        }\n",
              "      </script>\n",
              "    </div>\n",
              "  </div>\n",
              "  "
            ]
          },
          "metadata": {},
          "execution_count": 45
        }
      ]
    },
    {
      "cell_type": "code",
      "source": [
        "import lightgbm as lgb\n",
        "\n",
        "params = {\n",
        "    'num_leaves':4,\n",
        "    'n_estimators':80,\n",
        "    # 'min_data_in_leaf':500,\n",
        "    'class_weight':'balanced',\n",
        "    'random_state':100\n",
        "}\n",
        "\n",
        "lgb_clf = lgb.LGBMClassifier(**params)\n",
        "lgb_clf.fit(X_train.values,y_train.values)\n",
        "y_pred_train = lgb_clf.predict_proba(X_train)[:,1]\n",
        "y_pred = lgb_clf.predict_proba(X_test)[:,1]\n",
        "print(roc_auc_score(y_train,y_pred_train))\n",
        "print(roc_auc_score(y_test,y_pred))"
      ],
      "metadata": {
        "colab": {
          "base_uri": "https://localhost:8080/"
        },
        "id": "auuJ7_VGMrjl",
        "outputId": "c6efcbf9-348f-4383-b48e-661deed547b2"
      },
      "execution_count": null,
      "outputs": [
        {
          "output_type": "stream",
          "name": "stdout",
          "text": [
            "0.818529539976364\n",
            "0.811640619020559\n"
          ]
        }
      ]
    },
    {
      "cell_type": "code",
      "source": [
        "importances = pd.DataFrame({'features': X_train.columns, 'importance': lgb_clf.feature_importances_})\n",
        "importances.sort_values('importance', ascending=False)[:20]"
      ],
      "metadata": {
        "id": "_REKNa86Nmna",
        "colab": {
          "base_uri": "https://localhost:8080/",
          "height": 676
        },
        "outputId": "46ddc0fd-eb83-46d5-a392-4640de1af0ad"
      },
      "execution_count": null,
      "outputs": [
        {
          "output_type": "execute_result",
          "data": {
            "text/plain": [
              "       features  importance\n",
              "3            単勝         131\n",
              "4            人気          23\n",
              "7            体重          12\n",
              "179     騎手_藤田菜七           8\n",
              "6            年齢           8\n",
              "8          体重変化           7\n",
              "1            馬番           7\n",
              "2            斤量           5\n",
              "27       騎手_上野翔           4\n",
              "5    course_len           4\n",
              "62      騎手_坂井瑠星           3\n",
              "94      騎手_嶋田純次           3\n",
              "103      騎手_斎藤新           3\n",
              "150     騎手_的場勇人           3\n",
              "177     騎手_藤岡康太           2\n",
              "0            枠番           2\n",
              "185      騎手_酒井学           2\n",
              "198     騎手_鮫島克駿           2\n",
              "56      騎手_和田竜二           1\n",
              "159     騎手_石神深一           1"
            ],
            "text/html": [
              "\n",
              "  <div id=\"df-5e688870-ff05-4f6f-9691-f12028b7f4dc\">\n",
              "    <div class=\"colab-df-container\">\n",
              "      <div>\n",
              "<style scoped>\n",
              "    .dataframe tbody tr th:only-of-type {\n",
              "        vertical-align: middle;\n",
              "    }\n",
              "\n",
              "    .dataframe tbody tr th {\n",
              "        vertical-align: top;\n",
              "    }\n",
              "\n",
              "    .dataframe thead th {\n",
              "        text-align: right;\n",
              "    }\n",
              "</style>\n",
              "<table border=\"1\" class=\"dataframe\">\n",
              "  <thead>\n",
              "    <tr style=\"text-align: right;\">\n",
              "      <th></th>\n",
              "      <th>features</th>\n",
              "      <th>importance</th>\n",
              "    </tr>\n",
              "  </thead>\n",
              "  <tbody>\n",
              "    <tr>\n",
              "      <th>3</th>\n",
              "      <td>単勝</td>\n",
              "      <td>131</td>\n",
              "    </tr>\n",
              "    <tr>\n",
              "      <th>4</th>\n",
              "      <td>人気</td>\n",
              "      <td>23</td>\n",
              "    </tr>\n",
              "    <tr>\n",
              "      <th>7</th>\n",
              "      <td>体重</td>\n",
              "      <td>12</td>\n",
              "    </tr>\n",
              "    <tr>\n",
              "      <th>179</th>\n",
              "      <td>騎手_藤田菜七</td>\n",
              "      <td>8</td>\n",
              "    </tr>\n",
              "    <tr>\n",
              "      <th>6</th>\n",
              "      <td>年齢</td>\n",
              "      <td>8</td>\n",
              "    </tr>\n",
              "    <tr>\n",
              "      <th>8</th>\n",
              "      <td>体重変化</td>\n",
              "      <td>7</td>\n",
              "    </tr>\n",
              "    <tr>\n",
              "      <th>1</th>\n",
              "      <td>馬番</td>\n",
              "      <td>7</td>\n",
              "    </tr>\n",
              "    <tr>\n",
              "      <th>2</th>\n",
              "      <td>斤量</td>\n",
              "      <td>5</td>\n",
              "    </tr>\n",
              "    <tr>\n",
              "      <th>27</th>\n",
              "      <td>騎手_上野翔</td>\n",
              "      <td>4</td>\n",
              "    </tr>\n",
              "    <tr>\n",
              "      <th>5</th>\n",
              "      <td>course_len</td>\n",
              "      <td>4</td>\n",
              "    </tr>\n",
              "    <tr>\n",
              "      <th>62</th>\n",
              "      <td>騎手_坂井瑠星</td>\n",
              "      <td>3</td>\n",
              "    </tr>\n",
              "    <tr>\n",
              "      <th>94</th>\n",
              "      <td>騎手_嶋田純次</td>\n",
              "      <td>3</td>\n",
              "    </tr>\n",
              "    <tr>\n",
              "      <th>103</th>\n",
              "      <td>騎手_斎藤新</td>\n",
              "      <td>3</td>\n",
              "    </tr>\n",
              "    <tr>\n",
              "      <th>150</th>\n",
              "      <td>騎手_的場勇人</td>\n",
              "      <td>3</td>\n",
              "    </tr>\n",
              "    <tr>\n",
              "      <th>177</th>\n",
              "      <td>騎手_藤岡康太</td>\n",
              "      <td>2</td>\n",
              "    </tr>\n",
              "    <tr>\n",
              "      <th>0</th>\n",
              "      <td>枠番</td>\n",
              "      <td>2</td>\n",
              "    </tr>\n",
              "    <tr>\n",
              "      <th>185</th>\n",
              "      <td>騎手_酒井学</td>\n",
              "      <td>2</td>\n",
              "    </tr>\n",
              "    <tr>\n",
              "      <th>198</th>\n",
              "      <td>騎手_鮫島克駿</td>\n",
              "      <td>2</td>\n",
              "    </tr>\n",
              "    <tr>\n",
              "      <th>56</th>\n",
              "      <td>騎手_和田竜二</td>\n",
              "      <td>1</td>\n",
              "    </tr>\n",
              "    <tr>\n",
              "      <th>159</th>\n",
              "      <td>騎手_石神深一</td>\n",
              "      <td>1</td>\n",
              "    </tr>\n",
              "  </tbody>\n",
              "</table>\n",
              "</div>\n",
              "      <button class=\"colab-df-convert\" onclick=\"convertToInteractive('df-5e688870-ff05-4f6f-9691-f12028b7f4dc')\"\n",
              "              title=\"Convert this dataframe to an interactive table.\"\n",
              "              style=\"display:none;\">\n",
              "        \n",
              "  <svg xmlns=\"http://www.w3.org/2000/svg\" height=\"24px\"viewBox=\"0 0 24 24\"\n",
              "       width=\"24px\">\n",
              "    <path d=\"M0 0h24v24H0V0z\" fill=\"none\"/>\n",
              "    <path d=\"M18.56 5.44l.94 2.06.94-2.06 2.06-.94-2.06-.94-.94-2.06-.94 2.06-2.06.94zm-11 1L8.5 8.5l.94-2.06 2.06-.94-2.06-.94L8.5 2.5l-.94 2.06-2.06.94zm10 10l.94 2.06.94-2.06 2.06-.94-2.06-.94-.94-2.06-.94 2.06-2.06.94z\"/><path d=\"M17.41 7.96l-1.37-1.37c-.4-.4-.92-.59-1.43-.59-.52 0-1.04.2-1.43.59L10.3 9.45l-7.72 7.72c-.78.78-.78 2.05 0 2.83L4 21.41c.39.39.9.59 1.41.59.51 0 1.02-.2 1.41-.59l7.78-7.78 2.81-2.81c.8-.78.8-2.07 0-2.86zM5.41 20L4 18.59l7.72-7.72 1.47 1.35L5.41 20z\"/>\n",
              "  </svg>\n",
              "      </button>\n",
              "      \n",
              "  <style>\n",
              "    .colab-df-container {\n",
              "      display:flex;\n",
              "      flex-wrap:wrap;\n",
              "      gap: 12px;\n",
              "    }\n",
              "\n",
              "    .colab-df-convert {\n",
              "      background-color: #E8F0FE;\n",
              "      border: none;\n",
              "      border-radius: 50%;\n",
              "      cursor: pointer;\n",
              "      display: none;\n",
              "      fill: #1967D2;\n",
              "      height: 32px;\n",
              "      padding: 0 0 0 0;\n",
              "      width: 32px;\n",
              "    }\n",
              "\n",
              "    .colab-df-convert:hover {\n",
              "      background-color: #E2EBFA;\n",
              "      box-shadow: 0px 1px 2px rgba(60, 64, 67, 0.3), 0px 1px 3px 1px rgba(60, 64, 67, 0.15);\n",
              "      fill: #174EA6;\n",
              "    }\n",
              "\n",
              "    [theme=dark] .colab-df-convert {\n",
              "      background-color: #3B4455;\n",
              "      fill: #D2E3FC;\n",
              "    }\n",
              "\n",
              "    [theme=dark] .colab-df-convert:hover {\n",
              "      background-color: #434B5C;\n",
              "      box-shadow: 0px 1px 3px 1px rgba(0, 0, 0, 0.15);\n",
              "      filter: drop-shadow(0px 1px 2px rgba(0, 0, 0, 0.3));\n",
              "      fill: #FFFFFF;\n",
              "    }\n",
              "  </style>\n",
              "\n",
              "      <script>\n",
              "        const buttonEl =\n",
              "          document.querySelector('#df-5e688870-ff05-4f6f-9691-f12028b7f4dc button.colab-df-convert');\n",
              "        buttonEl.style.display =\n",
              "          google.colab.kernel.accessAllowed ? 'block' : 'none';\n",
              "\n",
              "        async function convertToInteractive(key) {\n",
              "          const element = document.querySelector('#df-5e688870-ff05-4f6f-9691-f12028b7f4dc');\n",
              "          const dataTable =\n",
              "            await google.colab.kernel.invokeFunction('convertToInteractive',\n",
              "                                                     [key], {});\n",
              "          if (!dataTable) return;\n",
              "\n",
              "          const docLinkHtml = 'Like what you see? Visit the ' +\n",
              "            '<a target=\"_blank\" href=https://colab.research.google.com/notebooks/data_table.ipynb>data table notebook</a>'\n",
              "            + ' to learn more about interactive tables.';\n",
              "          element.innerHTML = '';\n",
              "          dataTable['output_type'] = 'display_data';\n",
              "          await google.colab.output.renderOutput(dataTable, element);\n",
              "          const docLink = document.createElement('div');\n",
              "          docLink.innerHTML = docLinkHtml;\n",
              "          element.appendChild(docLink);\n",
              "        }\n",
              "      </script>\n",
              "    </div>\n",
              "  </div>\n",
              "  "
            ]
          },
          "metadata": {},
          "execution_count": 47
        }
      ]
    },
    {
      "cell_type": "code",
      "source": [],
      "metadata": {
        "id": "NISZhXo8P4T7"
      },
      "execution_count": null,
      "outputs": []
    }
  ],
  "metadata": {
    "colab": {
      "provenance": [],
      "authorship_tag": "ABX9TyMFcH6Bc0Ems/Fd8kuuHCNB",
      "include_colab_link": true
    },
    "kernelspec": {
      "display_name": "Python 3",
      "name": "python3"
    },
    "language_info": {
      "name": "python"
    }
  },
  "nbformat": 4,
  "nbformat_minor": 0
}